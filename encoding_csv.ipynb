{
 "cells": [
  {
   "cell_type": "code",
   "execution_count": null,
   "metadata": {
    "collapsed": true
   },
   "outputs": [],
   "source": [
    "'''\n",
    "Reading and writing CSV, JSON, XML, Binary, etc.\n",
    "'''"
   ]
  },
  {
   "cell_type": "code",
   "execution_count": 7,
   "metadata": {
    "collapsed": false
   },
   "outputs": [
    {
     "name": "stdout",
     "output_type": "stream",
     "text": [
      "['    \"AA\"', '39.48', '6/11/2007', '9:36am', '-0.18', '181800']\n",
      "['    \"AIG\"', '71.38', '6/11/2007', '9:36am', '-0.15', '195500']\n",
      "['    \"AXP\"', '62.58', '6/11/2007', '9:36am', '-0.46', '935000']\n",
      "['    \"BA\"', '98.31', '6/11/2007', '9:36am', '+0.12', '104800']\n",
      "['    \"C\"', '53.08', '6/11/2007', '9:36am', '-0.25', '360900']\n",
      "['    \"CAT\"', '78.29', '6/11/2007', '9:36am', '-0.23', '225400']\n",
      "[' Symbol', 'Price', 'Date', 'Time', 'Change', 'Volume']\n"
     ]
    }
   ],
   "source": [
    "import csv\n",
    "\n",
    "# csv read as sequence of lists, with each element of a list is a [col,row] value as string\n",
    "PATH = \"/Users/susmitadatta/Tutorials/Python/Data/\"\n",
    "FILE = \"stocks.csv\"\n",
    "with open(PATH+FILE) as f:\n",
    "    csv_file = csv.reader(f)\n",
    "    headers = next(csv_file)\n",
    "    for row in csv_file:\n",
    "        print(row)\n",
    "f.close()\n",
    "print(headers)\n",
    "        \n",
    "        "
   ]
  },
  {
   "cell_type": "code",
   "execution_count": 13,
   "metadata": {
    "collapsed": false
   },
   "outputs": [
    {
     "name": "stdout",
     "output_type": "stream",
     "text": [
      "[' Symbol', 'Price', 'Date', 'Time', 'Change', 'Volume']\n",
      "39.48\n",
      "6/11/2007\n",
      "71.38\n",
      "6/11/2007\n",
      "62.58\n",
      "6/11/2007\n",
      "98.31\n",
      "6/11/2007\n",
      "53.08\n",
      "6/11/2007\n",
      "78.29\n",
      "6/11/2007\n"
     ]
    }
   ],
   "source": [
    "import csv\n",
    "from collections import namedtuple\n",
    "'''\n",
    "\"namedtuple\" allows us to access data by header name\n",
    "\"namedtuple\" defines a class with field values separated by space\n",
    " this works in the headers are valid Python identifiers\n",
    "'''\n",
    "\n",
    "PATH = \"/Users/susmitadatta/Tutorials/Python/Data/\"\n",
    "FILE = \"stocks.csv\"\n",
    "\n",
    "with open(PATH+FILE) as f:\n",
    "    csv_file = csv.reader(f)\n",
    "    headers = next(csv_file)\n",
    "    print(headers)\n",
    "    s = ''\n",
    "    for elem in headers:\n",
    "        s = s + elem + ' '\n",
    "    colNames = namedtuple('colNames', s )\n",
    "    for line in csv_file:\n",
    "       csv_line = colNames(*line)\n",
    "       print(csv_line.Price)\n",
    "       print(csv_line.Date)\n",
    "f.close()\n",
    "\n"
   ]
  },
  {
   "cell_type": "code",
   "execution_count": 20,
   "metadata": {
    "collapsed": false
   },
   "outputs": [
    {
     "name": "stdout",
     "output_type": "stream",
     "text": [
      "{'Time': '9:36am', 'Price': '39.48', ' Symbol': '    \"AA\"', 'Change': '-0.18', 'Volume': '181800', 'Date': '6/11/2007'}\n",
      "{'Time': '9:36am', 'Price': '71.38', ' Symbol': '    \"AIG\"', 'Change': '-0.15', 'Volume': '195500', 'Date': '6/11/2007'}\n",
      "{'Time': '9:36am', 'Price': '62.58', ' Symbol': '    \"AXP\"', 'Change': '-0.46', 'Volume': '935000', 'Date': '6/11/2007'}\n",
      "{'Time': '9:36am', 'Price': '98.31', ' Symbol': '    \"BA\"', 'Change': '+0.12', 'Volume': '104800', 'Date': '6/11/2007'}\n",
      "{'Time': '9:36am', 'Price': '53.08', ' Symbol': '    \"C\"', 'Change': '-0.25', 'Volume': '360900', 'Date': '6/11/2007'}\n",
      "{'Time': '9:36am', 'Price': '78.29', ' Symbol': '    \"CAT\"', 'Change': '-0.23', 'Volume': '225400', 'Date': '6/11/2007'}\n"
     ]
    }
   ],
   "source": [
    "import csv\n",
    "'''\n",
    "read file as a sequence of dictionary\n",
    "'''\n",
    "PATH = \"/Users/susmitadatta/Tutorials/Python/Data/\"\n",
    "FILE = \"stocks.csv\"\n",
    "\n",
    "with open(PATH+FILE) as f:\n",
    "    csv_file = csv.DictReader(f)\n",
    "    for line in csv_file:\n",
    "        print(line)\n"
   ]
  },
  {
   "cell_type": "code",
   "execution_count": 34,
   "metadata": {
    "collapsed": false
   },
   "outputs": [
    {
     "name": "stdout",
     "output_type": "stream",
     "text": [
      "['A B C D']\n",
      "['a0 b0 c0 d0']\n",
      "['a1 b1 c1 d1']\n",
      "['a2 b2 c2 d2']\n",
      "['a3 b3 c3 d3']\n",
      "['a4 b4 c4 d4']\n",
      "['a5 b5 c5 d5']\n",
      "['a6 b6 c6 d6']\n",
      "['a7 b7 c7 d7']\n",
      "['a8 b8 c8 d8']\n",
      "['a9 b9 c9 d9']\n"
     ]
    }
   ],
   "source": [
    "# write csv file\n",
    "import csv\n",
    "import collections\n",
    "\n",
    "list_of_dict = []\n",
    "for i in range(10):\n",
    "  ordered_dictionary = collections.OrderedDict()\n",
    "  ordered_dictionary['A'] = 'a'+str(i)\n",
    "  ordered_dictionary['B'] = 'b'+str(i)\n",
    "  ordered_dictionary['C'] = 'c'+str(i)\n",
    "  ordered_dictionary['D'] = 'd'+str(i)\n",
    "  \n",
    "  #print(ordered_dictionary)\n",
    "  list_of_dict.append(ordered_dictionary)\n",
    "\n",
    "\n",
    "PATH = \"/Users/susmitadatta/Tutorials/Python/Data/\"\n",
    "FILE = \"test.csv\"\n",
    "keys = list_of_dict[0].keys()\n",
    "with open(PATH+FILE, 'w') as f:\n",
    "    dict_writer = csv.DictWriter(f, keys, delimiter =' ')\n",
    "    dict_writer.writeheader()\n",
    "    dict_writer.writerows(listOfDict)    \n",
    "f.close()\n",
    "\n",
    "with open(PATH+FILE) as f:\n",
    "    csv_file = csv.reader(f)\n",
    "    headers = next(csv_file)\n",
    "    print(headers)\n",
    "    for row in csv_file:\n",
    "        print(row)\n",
    "f.close()\n",
    "\n",
    "\n"
   ]
  },
  {
   "cell_type": "code",
   "execution_count": null,
   "metadata": {
    "collapsed": true
   },
   "outputs": [],
   "source": []
  }
 ],
 "metadata": {
  "anaconda-cloud": {},
  "kernelspec": {
   "display_name": "Python [Root]",
   "language": "python",
   "name": "Python [Root]"
  },
  "language_info": {
   "codemirror_mode": {
    "name": "ipython",
    "version": 3
   },
   "file_extension": ".py",
   "mimetype": "text/x-python",
   "name": "python",
   "nbconvert_exporter": "python",
   "pygments_lexer": "ipython3",
   "version": "3.5.2"
  }
 },
 "nbformat": 4,
 "nbformat_minor": 0
}
