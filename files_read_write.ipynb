{
 "cells": [
  {
   "cell_type": "code",
   "execution_count": 111,
   "metadata": {
    "collapsed": true
   },
   "outputs": [],
   "source": [
    "# file types\n",
    "# .txt (simple text files)\n",
    "# .png, .jpg, gif, bmp, tiff\n",
    "# zip, gz, tar\n",
    "# csv\n",
    "# pdf\n",
    "# html\n",
    "### parse json\n",
    "### parse xml"
   ]
  },
  {
   "cell_type": "code",
   "execution_count": 112,
   "metadata": {
    "collapsed": false
   },
   "outputs": [
    {
     "name": "stdout",
     "output_type": "stream",
     "text": [
      "A text file is any file containing only readable characters. A character can be a number like 3 or 6, or a letter of the alphabet like M or p. Taken together, programmers call numbers and letters the set of alphanumeric characters. Characters also include non-alphanumeric symbols like # or $. \n"
     ]
    }
   ],
   "source": [
    "# text files\n",
    "\n",
    "# open file for reading\n",
    "\n",
    "PATH = \"/Users/susmitadatta/Tutorials/Python/Data/\"\n",
    "FILE = \"text.txt\"\n",
    "file = open(PATH+FILE, \"r\")\n",
    "file_content = file.read() \n",
    "print(file_content)\n",
    "file.close()"
   ]
  },
  {
   "cell_type": "code",
   "execution_count": null,
   "metadata": {
    "collapsed": true
   },
   "outputs": [],
   "source": []
  },
  {
   "cell_type": "code",
   "execution_count": 113,
   "metadata": {
    "collapsed": false
   },
   "outputs": [
    {
     "name": "stdout",
     "output_type": "stream",
     "text": [
      "A bunch of characters makes a string.A bunch of characters makes a string.A bunch of characters makes a string.A bunch of characters makes a string.A bunch of characters makes a string.A bunch of characters makes a string.A bunch of characters makes a string.A bunch of characters makes a string.A bunch of characters makes a string.A bunch of characters makes a string.\n"
     ]
    }
   ],
   "source": [
    "PATH = \"/Users/susmitadatta/Tutorials/Python/Data/\"\n",
    "FILE = \"repeated_string.txt\"\n",
    "\n",
    "with open(PATH+FILE, \"w\") as f:\n",
    "    for i in range(10):\n",
    "      f.write(\"A bunch of characters makes a string.\")\n",
    "f.close()\n",
    "\n",
    "f = open(PATH+FILE, \"r\")\n",
    "file_content = f.read() \n",
    "print(file_content)\n",
    "f.close()"
   ]
  },
  {
   "cell_type": "code",
   "execution_count": 114,
   "metadata": {
    "collapsed": false
   },
   "outputs": [
    {
     "name": "stdout",
     "output_type": "stream",
     "text": [
      "A bunch of characters makes a string.\n",
      "A bunch of characters makes a string.\n",
      "A bunch of characters makes a string.\n",
      "A bunch of characters makes a string.\n",
      "A bunch of characters makes a string.\n",
      "A bunch of characters makes a string.\n",
      "A bunch of characters makes a string.\n",
      "A bunch of characters makes a string.\n",
      "A bunch of characters makes a string.\n",
      "A bunch of characters makes a string.\n",
      "\n"
     ]
    }
   ],
   "source": [
    "PATH = \"/Users/susmitadatta/Tutorials/Python/Data/\"\n",
    "FILE = \"repeated_string_newline.txt\"\n",
    "\n",
    "with open(PATH+FILE, \"w\") as f:\n",
    "    for i in range(10):\n",
    "      f.write(\"A bunch of characters makes a string.\\n\")\n",
    "f.close()\n",
    "\n",
    "f = open(PATH+FILE, \"r\")\n",
    "file_content = f.read() \n",
    "print(file_content)\n",
    "f.close()"
   ]
  },
  {
   "cell_type": "code",
   "execution_count": 115,
   "metadata": {
    "collapsed": false
   },
   "outputs": [
    {
     "name": "stdout",
     "output_type": "stream",
     "text": [
      "Jan\n",
      "uar\n",
      "y\n",
      "F\n",
      "ebr\n",
      "uar\n",
      "y\n",
      "M\n",
      "arc\n",
      "h\n",
      "A\n",
      "pri\n",
      "l\n",
      "M\n",
      "ay\n",
      "\n",
      "Jun\n",
      "e\n",
      "J\n",
      "uly\n",
      "\n",
      "Au\n",
      "gus\n",
      "t\n",
      "S\n",
      "ept\n",
      "emb\n",
      "er\n",
      "\n",
      "Oct\n",
      "obe\n",
      "r\n",
      "N\n",
      "ove\n",
      "mbe\n",
      "r\n",
      "D\n",
      "ece\n",
      "mbe\n",
      "r\n"
     ]
    }
   ],
   "source": [
    "# Read a file by smaller pieces\n",
    "# read c number or characters at a time from a file\n",
    "PATH = \"/Users/susmitadatta/Tutorials/Python/Data/\"\n",
    "FILE = \"months.txt\"\n",
    "f = open(PATH+FILE, \"r\")\n",
    "c = 3\n",
    "next = f.read(c)\n",
    "while next != \"\":\n",
    "    print(next)\n",
    "    next = f.read(c)"
   ]
  },
  {
   "cell_type": "code",
   "execution_count": 116,
   "metadata": {
    "collapsed": false
   },
   "outputs": [
    {
     "name": "stdout",
     "output_type": "stream",
     "text": [
      "January\n",
      "\n",
      "February\n",
      "\n",
      "March\n",
      "\n",
      "April\n",
      "\n",
      "May\n",
      "\n",
      "June\n",
      "\n",
      "July\n",
      "\n",
      "August\n",
      "\n",
      "September\n",
      "\n",
      "October\n",
      "\n",
      "November\n",
      "\n",
      "December\n"
     ]
    }
   ],
   "source": [
    "# read file line by line\n",
    "PATH = \"/Users/susmitadatta/Tutorials/Python/Data/\"\n",
    "FILE = \"months.txt\"\n",
    "f = open(PATH+FILE, \"r\")\n",
    "file_content = f.read()\n",
    "f.close()\n",
    "\n",
    "if '\\n' in file_content:\n",
    "  f = open(PATH+FILE, \"r\")\n",
    "  lines = f.readlines()\n",
    "  f.close()\n",
    "\n",
    "for line in lines:\n",
    " print(line)"
   ]
  },
  {
   "cell_type": "code",
   "execution_count": 117,
   "metadata": {
    "collapsed": false
   },
   "outputs": [
    {
     "ename": "TypeError",
     "evalue": "'str' object is not callable",
     "output_type": "error",
     "traceback": [
      "\u001b[0;31m---------------------------------------------------------------------------\u001b[0m",
      "\u001b[0;31mTypeError\u001b[0m                                 Traceback (most recent call last)",
      "\u001b[0;32m<ipython-input-117-43bb4bd13afb>\u001b[0m in \u001b[0;36m<module>\u001b[0;34m()\u001b[0m\n\u001b[1;32m      8\u001b[0m \u001b[0;32mwith\u001b[0m \u001b[0mopen\u001b[0m\u001b[0;34m(\u001b[0m\u001b[0mPATH\u001b[0m\u001b[0;34m+\u001b[0m\u001b[0mFILE\u001b[0m\u001b[0;34m)\u001b[0m \u001b[0;32mas\u001b[0m \u001b[0mf\u001b[0m\u001b[0;34m:\u001b[0m\u001b[0;34m\u001b[0m\u001b[0m\n\u001b[1;32m      9\u001b[0m     \u001b[0mcsv_file\u001b[0m \u001b[0;34m=\u001b[0m \u001b[0mcsv\u001b[0m\u001b[0;34m.\u001b[0m\u001b[0mreader\u001b[0m\u001b[0;34m(\u001b[0m\u001b[0mf\u001b[0m\u001b[0;34m)\u001b[0m\u001b[0;34m\u001b[0m\u001b[0m\n\u001b[0;32m---> 10\u001b[0;31m     \u001b[0mheaders\u001b[0m \u001b[0;34m=\u001b[0m \u001b[0mnext\u001b[0m\u001b[0;34m(\u001b[0m\u001b[0mcsv_file\u001b[0m\u001b[0;34m)\u001b[0m\u001b[0;34m\u001b[0m\u001b[0m\n\u001b[0m\u001b[1;32m     11\u001b[0m     \u001b[0;32mfor\u001b[0m \u001b[0mrow\u001b[0m \u001b[0;32min\u001b[0m \u001b[0mcsv_file\u001b[0m\u001b[0;34m:\u001b[0m\u001b[0;34m\u001b[0m\u001b[0m\n\u001b[1;32m     12\u001b[0m         \u001b[0mprint\u001b[0m\u001b[0;34m(\u001b[0m\u001b[0mrow\u001b[0m\u001b[0;34m)\u001b[0m\u001b[0;34m\u001b[0m\u001b[0m\n",
      "\u001b[0;31mTypeError\u001b[0m: 'str' object is not callable"
     ]
    }
   ],
   "source": [
    "import csv\n",
    "#The csv module’s reader and writer objects read and write sequences. \n",
    "#Can also read and write data in dictionary form using the DictReader and DictWriter classes.\n",
    "\n",
    "# csv read as sequence of lists, with each element of a list is a [col,row] value as string\n",
    "PATH = \"/Users/susmitadatta/Tutorials/Python/Data/\"\n",
    "FILE = \"stocks.csv\"\n",
    "with open(PATH+FILE) as f:\n",
    "    csv_file = csv.reader(f)\n",
    "    headers = next(csv_file)\n",
    "    for row in csv_file:\n",
    "        print(row)\n",
    "f.close()\n",
    "print(headers)\n"
   ]
  },
  {
   "cell_type": "code",
   "execution_count": 79,
   "metadata": {
    "collapsed": false
   },
   "outputs": [
    {
     "name": "stdout",
     "output_type": "stream",
     "text": [
      "AA,39.48,6/11/2007,9:36am,-0.18,181800\n"
     ]
    }
   ],
   "source": [
    "s = '\"AA\",39.48,\"6/11/2007\",\"9:36am\",-0.18,181800'\n",
    "s_new = s.replace('\"', '')\n",
    "print(s_new)"
   ]
  },
  {
   "cell_type": "code",
   "execution_count": null,
   "metadata": {
    "collapsed": true
   },
   "outputs": [],
   "source": []
  }
 ],
 "metadata": {
  "anaconda-cloud": {},
  "kernelspec": {
   "display_name": "Python [Root]",
   "language": "python",
   "name": "Python [Root]"
  },
  "language_info": {
   "codemirror_mode": {
    "name": "ipython",
    "version": 3
   },
   "file_extension": ".py",
   "mimetype": "text/x-python",
   "name": "python",
   "nbconvert_exporter": "python",
   "pygments_lexer": "ipython3",
   "version": "3.5.2"
  }
 },
 "nbformat": 4,
 "nbformat_minor": 0
}
