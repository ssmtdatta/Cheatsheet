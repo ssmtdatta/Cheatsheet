{
 "cells": [
  {
   "cell_type": "markdown",
   "metadata": {},
   "source": [
    "## Weather Data\n",
    "from http://forecast.weather.gov/MapClick.php?lat=37.7772&lon=-122.4168#.WNbJ_RiZNE4\n",
    "\n",
    "Obtain the following information.\n",
    "* Extended forecast for San Francisco, CA:\n",
    "    * Period (next 7-days/nights)\n",
    "    * Temperatue\n",
    "    * Short description of the weather\n",
    "    * Long Description of the weather"
   ]
  },
  {
   "cell_type": "markdown",
   "metadata": {},
   "source": [
    "* **Imports**"
   ]
  },
  {
   "cell_type": "code",
   "execution_count": 1,
   "metadata": {
    "collapsed": true
   },
   "outputs": [],
   "source": [
    "import bs4\n",
    "import requests"
   ]
  },
  {
   "cell_type": "markdown",
   "metadata": {},
   "source": [
    "* **Request page**"
   ]
  },
  {
   "cell_type": "code",
   "execution_count": 2,
   "metadata": {
    "collapsed": false
   },
   "outputs": [],
   "source": [
    "page = requests.get(\"http://forecast.weather.gov/MapClick.php?lat=37.7772&lon=-122.4168#.WNbJ_RiZNE4\")"
   ]
  },
  {
   "cell_type": "markdown",
   "metadata": {},
   "source": [
    "* **Check page status**"
   ]
  },
  {
   "cell_type": "code",
   "execution_count": 3,
   "metadata": {
    "collapsed": false
   },
   "outputs": [
    {
     "name": "stdout",
     "output_type": "stream",
     "text": [
      "200\n"
     ]
    }
   ],
   "source": [
    "print(page.status_code)"
   ]
  },
  {
   "cell_type": "markdown",
   "metadata": {},
   "source": [
    "* **Parse html contents of the page page** "
   ]
  },
  {
   "cell_type": "code",
   "execution_count": 4,
   "metadata": {
    "collapsed": true
   },
   "outputs": [],
   "source": [
    "soup = bs4.BeautifulSoup(page.content, 'html.parser')"
   ]
  },
  {
   "cell_type": "markdown",
   "metadata": {},
   "source": [
    "* **Inspect developer's view and look for the tags that show the extended forecast for the next seven days or so**"
   ]
  },
  {
   "cell_type": "markdown",
   "metadata": {},
   "source": [
    "Outer most tag for the 7-day forecast:  \n",
    "    `<div id=\"seven-day-forecast\" class=\"panel panel-default\">`"
   ]
  },
  {
   "cell_type": "markdown",
   "metadata": {},
   "source": [
    "* **Try**  \n",
    "Let's search for `id=\"seven-day-forecast\"` and inspect that."
   ]
  },
  {
   "cell_type": "code",
   "execution_count": 5,
   "metadata": {
    "collapsed": false
   },
   "outputs": [],
   "source": [
    "seven_day_forecast = soup.find_all(id=\"seven-day-forecast\")"
   ]
  },
  {
   "cell_type": "code",
   "execution_count": 6,
   "metadata": {
    "collapsed": false
   },
   "outputs": [
    {
     "name": "stdout",
     "output_type": "stream",
     "text": [
      "<class 'bs4.element.ResultSet'>\n"
     ]
    }
   ],
   "source": [
    "print(type(seven_day_forecast))"
   ]
  },
  {
   "cell_type": "markdown",
   "metadata": {},
   "source": [
    "Object type `'bs4.element.ResultSet'` means `find_all()` returned a `list` of `tags` and `strings`"
   ]
  },
  {
   "cell_type": "code",
   "execution_count": 7,
   "metadata": {
    "collapsed": false
   },
   "outputs": [
    {
     "name": "stdout",
     "output_type": "stream",
     "text": [
      "<class 'bs4.element.Tag'>\n"
     ]
    }
   ],
   "source": [
    "for item in seven_day_forecast:\n",
    "    print(type(item))"
   ]
  },
  {
   "cell_type": "code",
   "execution_count": 8,
   "metadata": {
    "collapsed": false
   },
   "outputs": [
    {
     "name": "stdout",
     "output_type": "stream",
     "text": [
      "<div class=\"panel panel-default\" id=\"seven-day-forecast\">\n",
      "<div class=\"panel-heading\">\n",
      "<b>Extended Forecast for</b>\n",
      "<h2 class=\"panel-title\">\n",
      "\t    \t    San Francisco CA\t</h2>\n",
      "</div>\n",
      "<div class=\"panel-body\" id=\"seven-day-forecast-body\">\n",
      "<div id=\"seven-day-forecast-container\"><ul class=\"list-unstyled\" id=\"seven-day-forecast-list\"><li class=\"forecast-tombstone\">\n",
      "<div class=\"tombstone-container\">\n",
      "<p class=\"period-name\">This<br>Afternoon</br></p>\n",
      "<p><img alt=\"This Afternoon: Mostly sunny, with a high near 62. West wind 11 to 17 mph, with gusts as high as 23 mph. \" class=\"forecast-icon\" src=\"newimages/medium/sct.png\" title=\"This Afternoon: Mostly sunny, with a high near 62. West wind 11 to 17 mph, with gusts as high as 23 mph. \"/></p><p class=\"short-desc\">Mostly Sunny</p><p class=\"temp temp-high\">High: 62 °F</p></div></li><li class=\"forecast-tombstone\">\n",
      "<div class=\"tombstone-container\">\n",
      "<p class=\"period-name\">Tonight<br><br/></br></p>\n",
      "<p><img alt=\"Tonight: Mostly cloudy, with a low around 50. West wind 9 to 17 mph, with gusts as high as 23 mph. \" class=\"forecast-icon\" src=\"newimages/medium/nbkn.png\" title=\"Tonight: Mostly cloudy, with a low around 50. West wind 9 to 17 mph, with gusts as high as 23 mph. \"/></p><p class=\"short-desc\">Mostly Cloudy</p><p class=\"temp temp-low\">Low: 50 °F</p></div></li><li class=\"forecast-tombstone\">\n",
      "<div class=\"tombstone-container\">\n",
      "<p class=\"period-name\">Sunday<br><br/></br></p>\n",
      "<p><img alt=\"Sunday: A 40 percent chance of rain, mainly after 11am.  Mostly cloudy, with a high near 61. West wind 7 to 11 mph becoming south in the afternoon. \" class=\"forecast-icon\" src=\"newimages/medium/ra40.png\" title=\"Sunday: A 40 percent chance of rain, mainly after 11am.  Mostly cloudy, with a high near 61. West wind 7 to 11 mph becoming south in the afternoon. \"/></p><p class=\"short-desc\">Chance Rain</p><p class=\"temp temp-high\">High: 61 °F</p></div></li><li class=\"forecast-tombstone\">\n",
      "<div class=\"tombstone-container\">\n",
      "<p class=\"period-name\">Sunday<br>Night</br></p>\n",
      "<p><img alt=\"Sunday Night: Rain likely before 11pm, then showers likely after 11pm.  Mostly cloudy, with a low around 50. South wind 11 to 15 mph becoming west northwest in the evening. Winds could gust as high as 20 mph.  Chance of precipitation is 60%. New precipitation amounts of less than a tenth of an inch possible. \" class=\"forecast-icon\" src=\"newimages/medium/nra60.png\" title=\"Sunday Night: Rain likely before 11pm, then showers likely after 11pm.  Mostly cloudy, with a low around 50. South wind 11 to 15 mph becoming west northwest in the evening. Winds could gust as high as 20 mph.  Chance of precipitation is 60%. New precipitation amounts of less than a tenth of an inch possible. \"/></p><p class=\"short-desc\">Rain Likely</p><p class=\"temp temp-low\">Low: 50 °F</p></div></li><li class=\"forecast-tombstone\">\n",
      "<div class=\"tombstone-container\">\n",
      "<p class=\"period-name\">Monday<br><br/></br></p>\n",
      "<p><img alt=\"Monday: A 20 percent chance of showers before 11am.  Partly sunny, with a high near 63. West northwest wind 11 to 21 mph, with gusts as high as 26 mph. \" class=\"forecast-icon\" src=\"DualImage.php?i=shra&amp;j=sct&amp;ip=20\" title=\"Monday: A 20 percent chance of showers before 11am.  Partly sunny, with a high near 63. West northwest wind 11 to 21 mph, with gusts as high as 26 mph. \"/></p><p class=\"short-desc\">Slight Chance<br>Showers then<br>Mostly Sunny</br></br></p><p class=\"temp temp-high\">High: 63 °F</p></div></li><li class=\"forecast-tombstone\">\n",
      "<div class=\"tombstone-container\">\n",
      "<p class=\"period-name\">Monday<br>Night</br></p>\n",
      "<p><img alt=\"Monday Night: Partly cloudy, with a low around 49.\" class=\"forecast-icon\" src=\"newimages/medium/nsct.png\" title=\"Monday Night: Partly cloudy, with a low around 49.\"/></p><p class=\"short-desc\">Partly Cloudy</p><p class=\"temp temp-low\">Low: 49 °F</p></div></li><li class=\"forecast-tombstone\">\n",
      "<div class=\"tombstone-container\">\n",
      "<p class=\"period-name\">Tuesday<br><br/></br></p>\n",
      "<p><img alt=\"Tuesday: Mostly sunny, with a high near 69.\" class=\"forecast-icon\" src=\"newimages/medium/sct.png\" title=\"Tuesday: Mostly sunny, with a high near 69.\"/></p><p class=\"short-desc\">Mostly Sunny</p><p class=\"temp temp-high\">High: 69 °F</p></div></li><li class=\"forecast-tombstone\">\n",
      "<div class=\"tombstone-container\">\n",
      "<p class=\"period-name\">Tuesday<br>Night</br></p>\n",
      "<p><img alt=\"Tuesday Night: Partly cloudy, with a low around 53.\" class=\"forecast-icon\" src=\"newimages/medium/nsct.png\" title=\"Tuesday Night: Partly cloudy, with a low around 53.\"/></p><p class=\"short-desc\">Partly Cloudy</p><p class=\"temp temp-low\">Low: 53 °F</p></div></li><li class=\"forecast-tombstone\">\n",
      "<div class=\"tombstone-container\">\n",
      "<p class=\"period-name\">Wednesday<br><br/></br></p>\n",
      "<p><img alt=\"Wednesday: Sunny, with a high near 69.\" class=\"forecast-icon\" src=\"newimages/medium/few.png\" title=\"Wednesday: Sunny, with a high near 69.\"/></p><p class=\"short-desc\">Sunny</p><p class=\"temp temp-high\">High: 69 °F</p></div></li></ul></div>\n",
      "<script type=\"text/javascript\">\n",
      "// equalize forecast heights\n",
      "$(function () {\n",
      "\tvar maxh = 0;\n",
      "\t$(\".forecast-tombstone .short-desc\").each(function () {\n",
      "\t\tvar h = $(this).height();\n",
      "\t\tif (h > maxh) { maxh = h; }\n",
      "\t});\n",
      "\t$(\".forecast-tombstone .short-desc\").height(maxh);\n",
      "});\n",
      "</script> </div>\n",
      "</div>\n"
     ]
    }
   ],
   "source": [
    "print(item)"
   ]
  },
  {
   "cell_type": "markdown",
   "metadata": {},
   "source": [
    "* **Try**  \n",
    "Let's search for `<div class=\"tombstone-container\">` and inspect that. Looks like it may contain the information we are looking for."
   ]
  },
  {
   "cell_type": "code",
   "execution_count": 9,
   "metadata": {
    "collapsed": false
   },
   "outputs": [],
   "source": [
    "forecast = item.find_all(class_=\"tombstone-container\")"
   ]
  },
  {
   "cell_type": "code",
   "execution_count": 10,
   "metadata": {
    "collapsed": false
   },
   "outputs": [
    {
     "name": "stdout",
     "output_type": "stream",
     "text": [
      "[<div class=\"tombstone-container\">\n",
      "<p class=\"period-name\">This<br>Afternoon</br></p>\n",
      "<p><img alt=\"This Afternoon: Mostly sunny, with a high near 62. West wind 11 to 17 mph, with gusts as high as 23 mph. \" class=\"forecast-icon\" src=\"newimages/medium/sct.png\" title=\"This Afternoon: Mostly sunny, with a high near 62. West wind 11 to 17 mph, with gusts as high as 23 mph. \"/></p><p class=\"short-desc\">Mostly Sunny</p><p class=\"temp temp-high\">High: 62 °F</p></div>, <div class=\"tombstone-container\">\n",
      "<p class=\"period-name\">Tonight<br><br/></br></p>\n",
      "<p><img alt=\"Tonight: Mostly cloudy, with a low around 50. West wind 9 to 17 mph, with gusts as high as 23 mph. \" class=\"forecast-icon\" src=\"newimages/medium/nbkn.png\" title=\"Tonight: Mostly cloudy, with a low around 50. West wind 9 to 17 mph, with gusts as high as 23 mph. \"/></p><p class=\"short-desc\">Mostly Cloudy</p><p class=\"temp temp-low\">Low: 50 °F</p></div>, <div class=\"tombstone-container\">\n",
      "<p class=\"period-name\">Sunday<br><br/></br></p>\n",
      "<p><img alt=\"Sunday: A 40 percent chance of rain, mainly after 11am.  Mostly cloudy, with a high near 61. West wind 7 to 11 mph becoming south in the afternoon. \" class=\"forecast-icon\" src=\"newimages/medium/ra40.png\" title=\"Sunday: A 40 percent chance of rain, mainly after 11am.  Mostly cloudy, with a high near 61. West wind 7 to 11 mph becoming south in the afternoon. \"/></p><p class=\"short-desc\">Chance Rain</p><p class=\"temp temp-high\">High: 61 °F</p></div>, <div class=\"tombstone-container\">\n",
      "<p class=\"period-name\">Sunday<br>Night</br></p>\n",
      "<p><img alt=\"Sunday Night: Rain likely before 11pm, then showers likely after 11pm.  Mostly cloudy, with a low around 50. South wind 11 to 15 mph becoming west northwest in the evening. Winds could gust as high as 20 mph.  Chance of precipitation is 60%. New precipitation amounts of less than a tenth of an inch possible. \" class=\"forecast-icon\" src=\"newimages/medium/nra60.png\" title=\"Sunday Night: Rain likely before 11pm, then showers likely after 11pm.  Mostly cloudy, with a low around 50. South wind 11 to 15 mph becoming west northwest in the evening. Winds could gust as high as 20 mph.  Chance of precipitation is 60%. New precipitation amounts of less than a tenth of an inch possible. \"/></p><p class=\"short-desc\">Rain Likely</p><p class=\"temp temp-low\">Low: 50 °F</p></div>, <div class=\"tombstone-container\">\n",
      "<p class=\"period-name\">Monday<br><br/></br></p>\n",
      "<p><img alt=\"Monday: A 20 percent chance of showers before 11am.  Partly sunny, with a high near 63. West northwest wind 11 to 21 mph, with gusts as high as 26 mph. \" class=\"forecast-icon\" src=\"DualImage.php?i=shra&amp;j=sct&amp;ip=20\" title=\"Monday: A 20 percent chance of showers before 11am.  Partly sunny, with a high near 63. West northwest wind 11 to 21 mph, with gusts as high as 26 mph. \"/></p><p class=\"short-desc\">Slight Chance<br>Showers then<br>Mostly Sunny</br></br></p><p class=\"temp temp-high\">High: 63 °F</p></div>, <div class=\"tombstone-container\">\n",
      "<p class=\"period-name\">Monday<br>Night</br></p>\n",
      "<p><img alt=\"Monday Night: Partly cloudy, with a low around 49.\" class=\"forecast-icon\" src=\"newimages/medium/nsct.png\" title=\"Monday Night: Partly cloudy, with a low around 49.\"/></p><p class=\"short-desc\">Partly Cloudy</p><p class=\"temp temp-low\">Low: 49 °F</p></div>, <div class=\"tombstone-container\">\n",
      "<p class=\"period-name\">Tuesday<br><br/></br></p>\n",
      "<p><img alt=\"Tuesday: Mostly sunny, with a high near 69.\" class=\"forecast-icon\" src=\"newimages/medium/sct.png\" title=\"Tuesday: Mostly sunny, with a high near 69.\"/></p><p class=\"short-desc\">Mostly Sunny</p><p class=\"temp temp-high\">High: 69 °F</p></div>, <div class=\"tombstone-container\">\n",
      "<p class=\"period-name\">Tuesday<br>Night</br></p>\n",
      "<p><img alt=\"Tuesday Night: Partly cloudy, with a low around 53.\" class=\"forecast-icon\" src=\"newimages/medium/nsct.png\" title=\"Tuesday Night: Partly cloudy, with a low around 53.\"/></p><p class=\"short-desc\">Partly Cloudy</p><p class=\"temp temp-low\">Low: 53 °F</p></div>, <div class=\"tombstone-container\">\n",
      "<p class=\"period-name\">Wednesday<br><br/></br></p>\n",
      "<p><img alt=\"Wednesday: Sunny, with a high near 69.\" class=\"forecast-icon\" src=\"newimages/medium/few.png\" title=\"Wednesday: Sunny, with a high near 69.\"/></p><p class=\"short-desc\">Sunny</p><p class=\"temp temp-high\">High: 69 °F</p></div>]\n"
     ]
    }
   ],
   "source": [
    "print(forecast)"
   ]
  },
  {
   "cell_type": "markdown",
   "metadata": {},
   "source": [
    "Looks like forecast is a list"
   ]
  },
  {
   "cell_type": "code",
   "execution_count": 11,
   "metadata": {
    "collapsed": false
   },
   "outputs": [
    {
     "name": "stdout",
     "output_type": "stream",
     "text": [
      "9\n"
     ]
    }
   ],
   "source": [
    "print(len(forecast))"
   ]
  },
  {
   "cell_type": "markdown",
   "metadata": {},
   "source": [
    "Let's inspect the first item of the forecast list"
   ]
  },
  {
   "cell_type": "code",
   "execution_count": 12,
   "metadata": {
    "collapsed": false
   },
   "outputs": [
    {
     "name": "stdout",
     "output_type": "stream",
     "text": [
      "<div class=\"tombstone-container\">\n",
      " <p class=\"period-name\">\n",
      "  This\n",
      "  <br>\n",
      "   Afternoon\n",
      "  </br>\n",
      " </p>\n",
      " <p>\n",
      "  <img alt=\"This Afternoon: Mostly sunny, with a high near 62. West wind 11 to 17 mph, with gusts as high as 23 mph. \" class=\"forecast-icon\" src=\"newimages/medium/sct.png\" title=\"This Afternoon: Mostly sunny, with a high near 62. West wind 11 to 17 mph, with gusts as high as 23 mph. \"/>\n",
      " </p>\n",
      " <p class=\"short-desc\">\n",
      "  Mostly Sunny\n",
      " </p>\n",
      " <p class=\"temp temp-high\">\n",
      "  High: 62 °F\n",
      " </p>\n",
      "</div>\n"
     ]
    }
   ],
   "source": [
    "print(forecast[0].prettify())"
   ]
  },
  {
   "cell_type": "code",
   "execution_count": 13,
   "metadata": {
    "collapsed": false
   },
   "outputs": [],
   "source": [
    "period_name = item.select(\".tombstone-container .period-name\")\n",
    "temperature = item.select(\".tombstone-container .temp\")\n",
    "short_desc = item.select(\".tombstone-container .short-desc\")\n",
    "long_desc = item.select(\".tombstone-container img\")"
   ]
  },
  {
   "cell_type": "code",
   "execution_count": 14,
   "metadata": {
    "collapsed": false
   },
   "outputs": [
    {
     "data": {
      "text/plain": [
       "[<p class=\"period-name\">This<br>Afternoon</br></p>,\n",
       " <p class=\"period-name\">Tonight<br><br/></br></p>,\n",
       " <p class=\"period-name\">Sunday<br><br/></br></p>,\n",
       " <p class=\"period-name\">Sunday<br>Night</br></p>,\n",
       " <p class=\"period-name\">Monday<br><br/></br></p>,\n",
       " <p class=\"period-name\">Monday<br>Night</br></p>,\n",
       " <p class=\"period-name\">Tuesday<br><br/></br></p>,\n",
       " <p class=\"period-name\">Tuesday<br>Night</br></p>,\n",
       " <p class=\"period-name\">Wednesday<br><br/></br></p>]"
      ]
     },
     "execution_count": 14,
     "metadata": {},
     "output_type": "execute_result"
    }
   ],
   "source": [
    "period_name"
   ]
  },
  {
   "cell_type": "code",
   "execution_count": 15,
   "metadata": {
    "collapsed": false
   },
   "outputs": [
    {
     "data": {
      "text/plain": [
       "[<p class=\"temp temp-high\">High: 62 °F</p>,\n",
       " <p class=\"temp temp-low\">Low: 50 °F</p>,\n",
       " <p class=\"temp temp-high\">High: 61 °F</p>,\n",
       " <p class=\"temp temp-low\">Low: 50 °F</p>,\n",
       " <p class=\"temp temp-high\">High: 63 °F</p>,\n",
       " <p class=\"temp temp-low\">Low: 49 °F</p>,\n",
       " <p class=\"temp temp-high\">High: 69 °F</p>,\n",
       " <p class=\"temp temp-low\">Low: 53 °F</p>,\n",
       " <p class=\"temp temp-high\">High: 69 °F</p>]"
      ]
     },
     "execution_count": 15,
     "metadata": {},
     "output_type": "execute_result"
    }
   ],
   "source": [
    "temperature"
   ]
  },
  {
   "cell_type": "code",
   "execution_count": 16,
   "metadata": {
    "collapsed": false
   },
   "outputs": [
    {
     "data": {
      "text/plain": [
       "[<p class=\"short-desc\">Mostly Sunny</p>,\n",
       " <p class=\"short-desc\">Mostly Cloudy</p>,\n",
       " <p class=\"short-desc\">Chance Rain</p>,\n",
       " <p class=\"short-desc\">Rain Likely</p>,\n",
       " <p class=\"short-desc\">Slight Chance<br>Showers then<br>Mostly Sunny</br></br></p>,\n",
       " <p class=\"short-desc\">Partly Cloudy</p>,\n",
       " <p class=\"short-desc\">Mostly Sunny</p>,\n",
       " <p class=\"short-desc\">Partly Cloudy</p>,\n",
       " <p class=\"short-desc\">Sunny</p>]"
      ]
     },
     "execution_count": 16,
     "metadata": {},
     "output_type": "execute_result"
    }
   ],
   "source": [
    "short_desc"
   ]
  },
  {
   "cell_type": "code",
   "execution_count": 17,
   "metadata": {
    "collapsed": false
   },
   "outputs": [
    {
     "data": {
      "text/plain": [
       "[<img alt=\"This Afternoon: Mostly sunny, with a high near 62. West wind 11 to 17 mph, with gusts as high as 23 mph. \" class=\"forecast-icon\" src=\"newimages/medium/sct.png\" title=\"This Afternoon: Mostly sunny, with a high near 62. West wind 11 to 17 mph, with gusts as high as 23 mph. \"/>,\n",
       " <img alt=\"Tonight: Mostly cloudy, with a low around 50. West wind 9 to 17 mph, with gusts as high as 23 mph. \" class=\"forecast-icon\" src=\"newimages/medium/nbkn.png\" title=\"Tonight: Mostly cloudy, with a low around 50. West wind 9 to 17 mph, with gusts as high as 23 mph. \"/>,\n",
       " <img alt=\"Sunday: A 40 percent chance of rain, mainly after 11am.  Mostly cloudy, with a high near 61. West wind 7 to 11 mph becoming south in the afternoon. \" class=\"forecast-icon\" src=\"newimages/medium/ra40.png\" title=\"Sunday: A 40 percent chance of rain, mainly after 11am.  Mostly cloudy, with a high near 61. West wind 7 to 11 mph becoming south in the afternoon. \"/>,\n",
       " <img alt=\"Sunday Night: Rain likely before 11pm, then showers likely after 11pm.  Mostly cloudy, with a low around 50. South wind 11 to 15 mph becoming west northwest in the evening. Winds could gust as high as 20 mph.  Chance of precipitation is 60%. New precipitation amounts of less than a tenth of an inch possible. \" class=\"forecast-icon\" src=\"newimages/medium/nra60.png\" title=\"Sunday Night: Rain likely before 11pm, then showers likely after 11pm.  Mostly cloudy, with a low around 50. South wind 11 to 15 mph becoming west northwest in the evening. Winds could gust as high as 20 mph.  Chance of precipitation is 60%. New precipitation amounts of less than a tenth of an inch possible. \"/>,\n",
       " <img alt=\"Monday: A 20 percent chance of showers before 11am.  Partly sunny, with a high near 63. West northwest wind 11 to 21 mph, with gusts as high as 26 mph. \" class=\"forecast-icon\" src=\"DualImage.php?i=shra&amp;j=sct&amp;ip=20\" title=\"Monday: A 20 percent chance of showers before 11am.  Partly sunny, with a high near 63. West northwest wind 11 to 21 mph, with gusts as high as 26 mph. \"/>,\n",
       " <img alt=\"Monday Night: Partly cloudy, with a low around 49.\" class=\"forecast-icon\" src=\"newimages/medium/nsct.png\" title=\"Monday Night: Partly cloudy, with a low around 49.\"/>,\n",
       " <img alt=\"Tuesday: Mostly sunny, with a high near 69.\" class=\"forecast-icon\" src=\"newimages/medium/sct.png\" title=\"Tuesday: Mostly sunny, with a high near 69.\"/>,\n",
       " <img alt=\"Tuesday Night: Partly cloudy, with a low around 53.\" class=\"forecast-icon\" src=\"newimages/medium/nsct.png\" title=\"Tuesday Night: Partly cloudy, with a low around 53.\"/>,\n",
       " <img alt=\"Wednesday: Sunny, with a high near 69.\" class=\"forecast-icon\" src=\"newimages/medium/few.png\" title=\"Wednesday: Sunny, with a high near 69.\"/>]"
      ]
     },
     "execution_count": 17,
     "metadata": {},
     "output_type": "execute_result"
    }
   ],
   "source": [
    "long_desc"
   ]
  },
  {
   "cell_type": "code",
   "execution_count": 18,
   "metadata": {
    "collapsed": false
   },
   "outputs": [
    {
     "name": "stdout",
     "output_type": "stream",
     "text": [
      "<class 'list'>\n"
     ]
    }
   ],
   "source": [
    "print(type(long_desc))"
   ]
  },
  {
   "cell_type": "code",
   "execution_count": 19,
   "metadata": {
    "collapsed": false
   },
   "outputs": [
    {
     "name": "stdout",
     "output_type": "stream",
     "text": [
      "9\n"
     ]
    }
   ],
   "source": [
    "print(len(long_desc))"
   ]
  },
  {
   "cell_type": "code",
   "execution_count": 20,
   "metadata": {
    "collapsed": false
   },
   "outputs": [
    {
     "name": "stdout",
     "output_type": "stream",
     "text": [
      "['This Afternoon: Mostly sunny, with a high near 62. West wind 11 to 17 mph, with gusts as high as 23 mph. ', 'Tonight: Mostly cloudy, with a low around 50. West wind 9 to 17 mph, with gusts as high as 23 mph. ', 'Sunday: A 40 percent chance of rain, mainly after 11am.  Mostly cloudy, with a high near 61. West wind 7 to 11 mph becoming south in the afternoon. ', 'Sunday Night: Rain likely before 11pm, then showers likely after 11pm.  Mostly cloudy, with a low around 50. South wind 11 to 15 mph becoming west northwest in the evening. Winds could gust as high as 20 mph.  Chance of precipitation is 60%. New precipitation amounts of less than a tenth of an inch possible. ', 'Monday: A 20 percent chance of showers before 11am.  Partly sunny, with a high near 63. West northwest wind 11 to 21 mph, with gusts as high as 26 mph. ', 'Monday Night: Partly cloudy, with a low around 49.', 'Tuesday: Mostly sunny, with a high near 69.', 'Tuesday Night: Partly cloudy, with a low around 53.', 'Wednesday: Sunny, with a high near 69.']\n"
     ]
    }
   ],
   "source": [
    "long_description = []\n",
    "for desc in long_desc:\n",
    "    long_description.append(desc['title'])\n",
    "\n",
    "print(long_description)"
   ]
  },
  {
   "cell_type": "markdown",
   "metadata": {},
   "source": [
    "#### Store the data in a dictionary"
   ]
  },
  {
   "cell_type": "code",
   "execution_count": 21,
   "metadata": {
    "collapsed": true
   },
   "outputs": [],
   "source": [
    "from collections import OrderedDict\n",
    "weather_forecast = OrderedDict()\n",
    "\n",
    "weather_forecast['Period'] = list(map(lambda s: s.get_text(), period_name))\n",
    "weather_forecast['Temperature'] = list(map(lambda s: s.get_text(), temperature))\n",
    "weather_forecast['Weather Summary'] = list(map(lambda s: s.get_text(), short_desc))\n",
    "weather_forecast['Weather Description'] = long_description"
   ]
  },
  {
   "cell_type": "code",
   "execution_count": 22,
   "metadata": {
    "collapsed": false
   },
   "outputs": [
    {
     "data": {
      "text/plain": [
       "OrderedDict([('Period',\n",
       "              ['ThisAfternoon',\n",
       "               'Tonight',\n",
       "               'Sunday',\n",
       "               'SundayNight',\n",
       "               'Monday',\n",
       "               'MondayNight',\n",
       "               'Tuesday',\n",
       "               'TuesdayNight',\n",
       "               'Wednesday']),\n",
       "             ('Temperature',\n",
       "              ['High: 62 °F',\n",
       "               'Low: 50 °F',\n",
       "               'High: 61 °F',\n",
       "               'Low: 50 °F',\n",
       "               'High: 63 °F',\n",
       "               'Low: 49 °F',\n",
       "               'High: 69 °F',\n",
       "               'Low: 53 °F',\n",
       "               'High: 69 °F']),\n",
       "             ('Weather Summary',\n",
       "              ['Mostly Sunny',\n",
       "               'Mostly Cloudy',\n",
       "               'Chance Rain',\n",
       "               'Rain Likely',\n",
       "               'Slight ChanceShowers thenMostly Sunny',\n",
       "               'Partly Cloudy',\n",
       "               'Mostly Sunny',\n",
       "               'Partly Cloudy',\n",
       "               'Sunny']),\n",
       "             ('Weather Description',\n",
       "              ['This Afternoon: Mostly sunny, with a high near 62. West wind 11 to 17 mph, with gusts as high as 23 mph. ',\n",
       "               'Tonight: Mostly cloudy, with a low around 50. West wind 9 to 17 mph, with gusts as high as 23 mph. ',\n",
       "               'Sunday: A 40 percent chance of rain, mainly after 11am.  Mostly cloudy, with a high near 61. West wind 7 to 11 mph becoming south in the afternoon. ',\n",
       "               'Sunday Night: Rain likely before 11pm, then showers likely after 11pm.  Mostly cloudy, with a low around 50. South wind 11 to 15 mph becoming west northwest in the evening. Winds could gust as high as 20 mph.  Chance of precipitation is 60%. New precipitation amounts of less than a tenth of an inch possible. ',\n",
       "               'Monday: A 20 percent chance of showers before 11am.  Partly sunny, with a high near 63. West northwest wind 11 to 21 mph, with gusts as high as 26 mph. ',\n",
       "               'Monday Night: Partly cloudy, with a low around 49.',\n",
       "               'Tuesday: Mostly sunny, with a high near 69.',\n",
       "               'Tuesday Night: Partly cloudy, with a low around 53.',\n",
       "               'Wednesday: Sunny, with a high near 69.'])])"
      ]
     },
     "execution_count": 22,
     "metadata": {},
     "output_type": "execute_result"
    }
   ],
   "source": [
    "weather_forecast\n"
   ]
  },
  {
   "cell_type": "markdown",
   "metadata": {},
   "source": [
    "### Veiw weather forecast as a dataframe"
   ]
  },
  {
   "cell_type": "code",
   "execution_count": 23,
   "metadata": {
    "collapsed": true
   },
   "outputs": [],
   "source": [
    "import pandas as pd"
   ]
  },
  {
   "cell_type": "code",
   "execution_count": 24,
   "metadata": {
    "collapsed": false
   },
   "outputs": [
    {
     "data": {
      "text/html": [
       "<div>\n",
       "<table border=\"1\" class=\"dataframe\">\n",
       "  <thead>\n",
       "    <tr style=\"text-align: right;\">\n",
       "      <th></th>\n",
       "      <th>Period</th>\n",
       "      <th>Temperature</th>\n",
       "      <th>Weather Summary</th>\n",
       "      <th>Weather Description</th>\n",
       "    </tr>\n",
       "  </thead>\n",
       "  <tbody>\n",
       "    <tr>\n",
       "      <th>0</th>\n",
       "      <td>ThisAfternoon</td>\n",
       "      <td>High: 62 °F</td>\n",
       "      <td>Mostly Sunny</td>\n",
       "      <td>This Afternoon: Mostly sunny, with a high near...</td>\n",
       "    </tr>\n",
       "    <tr>\n",
       "      <th>1</th>\n",
       "      <td>Tonight</td>\n",
       "      <td>Low: 50 °F</td>\n",
       "      <td>Mostly Cloudy</td>\n",
       "      <td>Tonight: Mostly cloudy, with a low around 50. ...</td>\n",
       "    </tr>\n",
       "    <tr>\n",
       "      <th>2</th>\n",
       "      <td>Sunday</td>\n",
       "      <td>High: 61 °F</td>\n",
       "      <td>Chance Rain</td>\n",
       "      <td>Sunday: A 40 percent chance of rain, mainly af...</td>\n",
       "    </tr>\n",
       "    <tr>\n",
       "      <th>3</th>\n",
       "      <td>SundayNight</td>\n",
       "      <td>Low: 50 °F</td>\n",
       "      <td>Rain Likely</td>\n",
       "      <td>Sunday Night: Rain likely before 11pm, then sh...</td>\n",
       "    </tr>\n",
       "    <tr>\n",
       "      <th>4</th>\n",
       "      <td>Monday</td>\n",
       "      <td>High: 63 °F</td>\n",
       "      <td>Slight ChanceShowers thenMostly Sunny</td>\n",
       "      <td>Monday: A 20 percent chance of showers before ...</td>\n",
       "    </tr>\n",
       "    <tr>\n",
       "      <th>5</th>\n",
       "      <td>MondayNight</td>\n",
       "      <td>Low: 49 °F</td>\n",
       "      <td>Partly Cloudy</td>\n",
       "      <td>Monday Night: Partly cloudy, with a low around...</td>\n",
       "    </tr>\n",
       "    <tr>\n",
       "      <th>6</th>\n",
       "      <td>Tuesday</td>\n",
       "      <td>High: 69 °F</td>\n",
       "      <td>Mostly Sunny</td>\n",
       "      <td>Tuesday: Mostly sunny, with a high near 69.</td>\n",
       "    </tr>\n",
       "    <tr>\n",
       "      <th>7</th>\n",
       "      <td>TuesdayNight</td>\n",
       "      <td>Low: 53 °F</td>\n",
       "      <td>Partly Cloudy</td>\n",
       "      <td>Tuesday Night: Partly cloudy, with a low aroun...</td>\n",
       "    </tr>\n",
       "    <tr>\n",
       "      <th>8</th>\n",
       "      <td>Wednesday</td>\n",
       "      <td>High: 69 °F</td>\n",
       "      <td>Sunny</td>\n",
       "      <td>Wednesday: Sunny, with a high near 69.</td>\n",
       "    </tr>\n",
       "  </tbody>\n",
       "</table>\n",
       "</div>"
      ],
      "text/plain": [
       "          Period  Temperature                        Weather Summary  \\\n",
       "0  ThisAfternoon  High: 62 °F                           Mostly Sunny   \n",
       "1        Tonight   Low: 50 °F                          Mostly Cloudy   \n",
       "2         Sunday  High: 61 °F                            Chance Rain   \n",
       "3    SundayNight   Low: 50 °F                            Rain Likely   \n",
       "4         Monday  High: 63 °F  Slight ChanceShowers thenMostly Sunny   \n",
       "5    MondayNight   Low: 49 °F                          Partly Cloudy   \n",
       "6        Tuesday  High: 69 °F                           Mostly Sunny   \n",
       "7   TuesdayNight   Low: 53 °F                          Partly Cloudy   \n",
       "8      Wednesday  High: 69 °F                                  Sunny   \n",
       "\n",
       "                                 Weather Description  \n",
       "0  This Afternoon: Mostly sunny, with a high near...  \n",
       "1  Tonight: Mostly cloudy, with a low around 50. ...  \n",
       "2  Sunday: A 40 percent chance of rain, mainly af...  \n",
       "3  Sunday Night: Rain likely before 11pm, then sh...  \n",
       "4  Monday: A 20 percent chance of showers before ...  \n",
       "5  Monday Night: Partly cloudy, with a low around...  \n",
       "6        Tuesday: Mostly sunny, with a high near 69.  \n",
       "7  Tuesday Night: Partly cloudy, with a low aroun...  \n",
       "8             Wednesday: Sunny, with a high near 69.  "
      ]
     },
     "execution_count": 24,
     "metadata": {},
     "output_type": "execute_result"
    }
   ],
   "source": [
    "df = pd.DataFrame(weather_forecast)\n",
    "df"
   ]
  },
  {
   "cell_type": "code",
   "execution_count": null,
   "metadata": {
    "collapsed": true
   },
   "outputs": [],
   "source": []
  }
 ],
 "metadata": {
  "kernelspec": {
   "display_name": "Python 3",
   "language": "python",
   "name": "python3"
  },
  "language_info": {
   "codemirror_mode": {
    "name": "ipython",
    "version": 3
   },
   "file_extension": ".py",
   "mimetype": "text/x-python",
   "name": "python",
   "nbconvert_exporter": "python",
   "pygments_lexer": "ipython3",
   "version": "3.6.0"
  }
 },
 "nbformat": 4,
 "nbformat_minor": 2
}
