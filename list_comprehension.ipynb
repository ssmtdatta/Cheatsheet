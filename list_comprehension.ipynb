{
 "cells": [
  {
   "cell_type": "markdown",
   "metadata": {},
   "source": [
    "### List comprehensions provide a concise way to create lists."
   ]
  },
  {
   "cell_type": "markdown",
   "metadata": {},
   "source": [
    "### Examples:"
   ]
  },
  {
   "cell_type": "markdown",
   "metadata": {},
   "source": [
    "* squares of a range of numbers "
   ]
  },
  {
   "cell_type": "code",
   "execution_count": 1,
   "metadata": {
    "collapsed": false
   },
   "outputs": [
    {
     "name": "stdout",
     "output_type": "stream",
     "text": [
      "[1, 4, 9, 16, 25, 36, 49, 64, 81, 100]\n"
     ]
    }
   ],
   "source": [
    "numbers = range(1, 11)\n",
    "sq_numbers = [num**2 for num in numbers]\n",
    "print(sq_numbers)"
   ]
  },
  {
   "cell_type": "markdown",
   "metadata": {},
   "source": [
    "* squares of even numbers in a range"
   ]
  },
  {
   "cell_type": "code",
   "execution_count": 3,
   "metadata": {
    "collapsed": false
   },
   "outputs": [
    {
     "name": "stdout",
     "output_type": "stream",
     "text": [
      "[4, 16, 36, 64, 100]\n"
     ]
    }
   ],
   "source": [
    "numbers = range(1, 11)\n",
    "sq_even_numbers = [n**2 for n in numbers if n%2==0]\n",
    "print(sq_even_numbers)"
   ]
  },
  {
   "cell_type": "markdown",
   "metadata": {},
   "source": [
    "* use of a relation or function: convert Celcius to Fahrenheit"
   ]
  },
  {
   "cell_type": "code",
   "execution_count": 7,
   "metadata": {
    "collapsed": false
   },
   "outputs": [
    {
     "name": "stdout",
     "output_type": "stream",
     "text": [
      "[102.56, 97.7, 99.14, 100.04]\n"
     ]
    }
   ],
   "source": [
    "c_temp = [39.2, 36.5, 37.3, 37.8]\n",
    "\n",
    "f_temp = [((9/5)*c + 32) for c in c_temp]\n",
    "\n",
    "f_temp = [round(f, 2) for f in f_temp]\n",
    "\n",
    "print(f_temp)"
   ]
  },
  {
   "cell_type": "code",
   "execution_count": 9,
   "metadata": {
    "collapsed": false
   },
   "outputs": [
    {
     "name": "stdout",
     "output_type": "stream",
     "text": [
      "[102.56, 97.7, 99.14, 100.04]\n"
     ]
    }
   ],
   "source": [
    "def celcius2farhenheit(c):\n",
    "    f = ((9/5)*c + 32)\n",
    "    return f\n",
    "\n",
    "c_temp = [39.2, 36.5, 37.3, 37.8]\n",
    "\n",
    "f_temp = [round(celcius2farhenheit(c),2) for c in c_temp]\n",
    "print(f_temp)    "
   ]
  },
  {
   "cell_type": "markdown",
   "metadata": {},
   "source": [
    "* create tuples of things and colors"
   ]
  },
  {
   "cell_type": "code",
   "execution_count": 14,
   "metadata": {
    "collapsed": false
   },
   "outputs": [
    {
     "name": "stdout",
     "output_type": "stream",
     "text": [
      "[('house', 'green'), ('car', 'green'), ('tree', 'green')]\n"
     ]
    }
   ],
   "source": [
    "colors = [ \"red\", \"green\", \"yellow\", \"blue\" ]\n",
    "things = [ \"house\", \"car\", \"tree\" ]\n",
    "\n",
    "import random\n",
    "color = colors[random.randint(0, len(colors))]\n",
    "\n",
    "tup = [(thing, color) for thing in things] \n",
    "print(tup)"
   ]
  },
  {
   "cell_type": "code",
   "execution_count": 32,
   "metadata": {
    "collapsed": false
   },
   "outputs": [
    {
     "name": "stdout",
     "output_type": "stream",
     "text": [
      "[('house', 'red'), ('house', 'green'), ('house', 'yellow'), ('house', 'blue'), ('car', 'red'), ('car', 'green'), ('car', 'yellow'), ('car', 'blue'), ('tree', 'red'), ('tree', 'green'), ('tree', 'yellow'), ('tree', 'blue')]\n"
     ]
    }
   ],
   "source": [
    "colors = [ \"red\", \"green\", \"yellow\", \"blue\" ]\n",
    "things = [ \"house\", \"car\", \"tree\" ]\n",
    "\n",
    "\n",
    "my_list = [(thing, color) for thing in things for color in colors]\n",
    "print(my_list)\n",
    "    "
   ]
  },
  {
   "cell_type": "markdown",
   "metadata": {},
   "source": [
    "### A more advanced example"
   ]
  },
  {
   "cell_type": "markdown",
   "metadata": {},
   "source": [
    "#### Calculation of the prime numbers between 1 and 100 \n",
    "* using the sieve of Eratosthenes"
   ]
  },
  {
   "cell_type": "markdown",
   "metadata": {},
   "source": [
    "#### computer primes the conventional way"
   ]
  },
  {
   "cell_type": "code",
   "execution_count": 21,
   "metadata": {
    "collapsed": false
   },
   "outputs": [
    {
     "name": "stdout",
     "output_type": "stream",
     "text": [
      "The non-prime numbers obained using Eratosthenes method) (there are duplicates:\n",
      "[4, 6, 6, 8, 8, 9, 10, 10, 12, 12, 12, 12, 14, 14, 15, 15, 16, 16, 18, 18, 18, 20, 20, 20, 21, 21, 22, 24, 24, 24, 24, 25, 26, 27, 28, 28, 28, 30, 30, 30, 30, 32, 32, 33, 34, 35, 35, 36, 36, 36, 36, 38, 39, 40, 40, 40, 42, 42, 42, 42, 44, 44, 45, 45, 46, 48, 48, 48, 48, 49, 50, 50, 51, 52, 52, 54, 54, 54, 55, 56, 56, 56, 57, 58, 60, 60, 60, 60, 60, 62, 63, 63, 64, 64, 65, 66, 66, 66, 68, 68, 69, 70, 70, 70, 72, 72, 72, 72, 74, 75, 75, 76, 76, 77, 78, 78, 78, 80, 80, 80, 81, 82, 84, 84, 84, 84, 84, 85, 86, 87, 88, 88, 90, 90, 90, 90, 91, 92, 92, 93, 94, 95, 96, 96, 96, 96, 98, 98, 99]\n",
      "\n",
      "The non-prime numbers with the duplicates removed:\n",
      "[4, 6, 8, 9, 10, 12, 14, 15, 16, 18, 20, 21, 22, 24, 25, 26, 27, 28, 30, 32, 33, 34, 35, 36, 38, 39, 40, 42, 44, 45, 46, 48, 49, 50, 51, 52, 54, 55, 56, 57, 58, 60, 62, 63, 64, 65, 66, 68, 69, 70, 72, 74, 75, 76, 77, 78, 80, 81, 82, 84, 85, 86, 87, 88, 90, 91, 92, 93, 94, 95, 96, 98, 99]\n",
      "\n",
      "Prime numbers:\n",
      "[0, 1, 2, 3, 5, 7, 11, 13, 17, 19, 23, 29, 31, 37, 41, 43, 47, 53, 59, 61, 67, 71, 73, 79, 83, 89, 97]\n"
     ]
    }
   ],
   "source": [
    "# the conventional way:\n",
    "not_prime = []\n",
    "for i in range(2, 8):\n",
    "    for j in range(i*2, 100, i):\n",
    "        not_prime.append(j)\n",
    "\n",
    "# not prime has duplications\n",
    "print(\"The non-prime numbers obained using Eratosthenes method) (there are duplicates:\")\n",
    "print(sorted(not_prime))\n",
    "\n",
    "# the duplicates can be removed using the set method\n",
    "print(\"\\nThe non-prime numbers with the duplicates removed:\")\n",
    "not_prime = list(set(not_prime))\n",
    "print(not_prime)\n",
    "\n",
    "prime = []\n",
    "for i in range(0, 100):\n",
    "    if i not in not_prime:\n",
    "        prime.append(i)\n",
    "        \n",
    "print(\"\\nPrime numbers:\")\n",
    "print(prime)"
   ]
  },
  {
   "cell_type": "markdown",
   "metadata": {},
   "source": [
    "#### Computer primes using list comprehension"
   ]
  },
  {
   "cell_type": "code",
   "execution_count": 23,
   "metadata": {
    "collapsed": false
   },
   "outputs": [
    {
     "name": "stdout",
     "output_type": "stream",
     "text": [
      "[0, 1, 2, 3, 5, 7, 11, 13, 17, 19, 23, 29, 31, 37, 41, 43, 47, 53, 59, 61, 67, 71, 73, 79, 83, 89, 97]\n"
     ]
    }
   ],
   "source": [
    "not_primes = [j for i in range(2, 8) for j in range(i*2, 100, i)]\n",
    "not_primes = list(set(sorted(not_primes)))\n",
    "primes = [x for x in range(100) if x not in not_primes]\n",
    "print(primes)"
   ]
  }
 ],
 "metadata": {
  "anaconda-cloud": {},
  "kernelspec": {
   "display_name": "Python 3",
   "language": "python",
   "name": "python3"
  },
  "language_info": {
   "codemirror_mode": {
    "name": "ipython",
    "version": 3
   },
   "file_extension": ".py",
   "mimetype": "text/x-python",
   "name": "python",
   "nbconvert_exporter": "python",
   "pygments_lexer": "ipython3",
   "version": "3.6.0"
  }
 },
 "nbformat": 4,
 "nbformat_minor": 0
}
