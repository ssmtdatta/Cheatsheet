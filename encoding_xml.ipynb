{
 "cells": [
  {
   "cell_type": "code",
   "execution_count": 1,
   "metadata": {
    "collapsed": true
   },
   "outputs": [],
   "source": [
    "'''\n",
    "Extract data from simple XML document\n",
    "'''\n",
    "from xml.etree.ElementTree import parse "
   ]
  },
  {
   "cell_type": "code",
   "execution_count": 9,
   "metadata": {
    "collapsed": false
   },
   "outputs": [
    {
     "name": "stdout",
     "output_type": "stream",
     "text": [
      "<xml.etree.ElementTree.ElementTree object at 0x1065c2d68>\n"
     ]
    }
   ],
   "source": [
    "from urllib.request import urlopen\n",
    "\n",
    "rss_feed = urlopen(\"http://planet.python.org/rss20.xml\")\n",
    "feed = parse(rss_feed)\n",
    "\n",
    "print(feed) # rss feed in an xml object"
   ]
  },
  {
   "cell_type": "code",
   "execution_count": 10,
   "metadata": {
    "collapsed": false
   },
   "outputs": [
    {
     "data": {
      "text/plain": [
       "'\\n  <?xml version=\"1.0\"?>\\n  <rss version=\"2.0\" xmlns:dc=\"http://purl.org/dc/elements/1.1/\">\\n  <channel>\\n  <title>Planet Python</title>\\n  <link>http://planet.python.org/</link>\\n  <language>en</language>\\n  <description>Planet Python - http://planet.python.org/</description>\\n  <item>\\n    <title>Steve Holden: Python for Data Analysis</title>\\n    <guid>http://holdenweb.blogspot.com/...-data-analysis.html</guid>\\n    <link>http://holdenweb.blogspot.com/...-data-analysis.html</link>\\n    <description>...</description>\\n    <pubDate>Mon, 19 Nov 2012 02:13:51 +0000</pubDate>\\n  </item>\\n  <item>\\n    <title>Vasudev Ram: The Python Data model (for v2 and v3)</title>\\n    <guid>http://jugad2.blogspot.com/...-data-model.html</guid>\\n    <link>http://jugad2.blogspot.com/...-data-model.html</link>\\n    <description>...</description>\\n    <pubDate>Sun, 18 Nov 2012 22:06:47 +0000</pubDate>\\n  </item>\\n  <item>\\n    <title>Python Diary: Been playing around with Object Databases</title>\\n    <guid>http://www.pythondiary.com/...-object-databases.html</guid>\\n    <link>http://www.pythondiary.com/...-object-databases.html</link>\\n    <description>...</description>\\n    <pubDate>Sun, 18 Nov 2012 20:40:29 +0000</pubDate>\\n  </item>\\n  </channel>\\n  </rss>\\n'"
      ]
     },
     "execution_count": 10,
     "metadata": {},
     "output_type": "execute_result"
    }
   ],
   "source": [
    "# example of an xml feed\n",
    "# '''\n",
    "#   <?xml version=\"1.0\"?>\n",
    "#   <rss version=\"2.0\" xmlns:dc=\"http://purl.org/dc/elements/1.1/\">\n",
    "#   <channel>\n",
    "#   <title>Planet Python</title>\n",
    "#   <link>http://planet.python.org/</link>\n",
    "#   <language>en</language>\n",
    "#   <description>Planet Python - http://planet.python.org/</description>\n",
    "#   <item>\n",
    "#     <title>Steve Holden: Python for Data Analysis</title>\n",
    "#     <guid>http://holdenweb.blogspot.com/...-data-analysis.html</guid>\n",
    "#     <link>http://holdenweb.blogspot.com/...-data-analysis.html</link>\n",
    "#     <description>...</description>\n",
    "#     <pubDate>Mon, 19 Nov 2012 02:13:51 +0000</pubDate>\n",
    "#   </item>\n",
    "#   <item>\n",
    "#     <title>Vasudev Ram: The Python Data model (for v2 and v3)</title>\n",
    "#     <guid>http://jugad2.blogspot.com/...-data-model.html</guid>\n",
    "#     <link>http://jugad2.blogspot.com/...-data-model.html</link>\n",
    "#     <description>...</description>\n",
    "#     <pubDate>Sun, 18 Nov 2012 22:06:47 +0000</pubDate>\n",
    "#   </item>\n",
    "#   <item>\n",
    "#     <title>Python Diary: Been playing around with Object Databases</title>\n",
    "#     <guid>http://www.pythondiary.com/...-object-databases.html</guid>\n",
    "#     <link>http://www.pythondiary.com/...-object-databases.html</link>\n",
    "#     <description>...</description>\n",
    "#     <pubDate>Sun, 18 Nov 2012 20:40:29 +0000</pubDate>\n",
    "#   </item>\n",
    "#   </channel>\n",
    "#   </rss>\n",
    "# '''"
   ]
  },
  {
   "cell_type": "code",
   "execution_count": 12,
   "metadata": {
    "collapsed": false
   },
   "outputs": [
    {
     "name": "stdout",
     "output_type": "stream",
     "text": [
      "Planet Python\n",
      "en\n",
      "http://planetpython.org/\n",
      "\n"
     ]
    }
   ],
   "source": [
    "for f in feed.iterfind('channel'):\n",
    "  title = f.findtext('title')\n",
    "  lang = f.findtext('language')\n",
    "  link = f.findtext('link')\n",
    "  print(title)\n",
    "  print(lang)\n",
    "  print(link)\n",
    "\n"
   ]
  },
  {
   "cell_type": "code",
   "execution_count": 13,
   "metadata": {
    "collapsed": false
   },
   "outputs": [
    {
     "name": "stdout",
     "output_type": "stream",
     "text": [
      "Richard Tew: Mixing iteration and read methods would lose data\n",
      "en\n",
      "http://posted-stuff.blogspot.com/2016/09/mixing-iteration-and-read-methods-would.html\n",
      "Wesley Chun: Formatting cells in Google Sheets with Python\n",
      "en\n",
      "http://wescpy.blogspot.com/2016/09/formatting-cells-in-google-sheets-with.html\n",
      "Anwesha Das: First time PyLadies presence in Pycon India\n",
      "en\n",
      "http://anweshadas.in/first-time-pyladies-presence-in-pyconindia-2/\n",
      "Abu Ashraf Masnun: Can Cython make Python Great in Programming Contests?\n",
      "en\n",
      "http://masnun.rocks/2016/09/28/can-cython-make-python-great-in-programming-contests/\n",
      "Python Engineering at Microsoft: Microsoft’s participation in the 2016 Python core sprint\n",
      "en\n",
      "https://blogs.msdn.microsoft.com/pythonengineering/2016/09/27/microsofts-participation-in-the-2016-python-core-sprint/\n",
      "Weekly Python Chat: Decorators: The Function's Function\n",
      "en\n",
      "http://ccst.io/e/decorators\n",
      "Mike Driscoll: wxPython Cookbook Available for Pre-Order\n",
      "en\n",
      "http://www.blog.pythonlibrary.org/2016/09/27/wxpython-cookbook-available-for-pre-order/\n",
      "Continuum Analytics News: Continuum Analytics Joins Forces with IBM to Bring Open Data Science to the Enterprise\n",
      "en\n",
      "https://www.continuum.io/blog/news/continuum-analytics-joins-forces-ibm-open-data-science\n",
      "Python Insider: Python Core Development Sprint 2016: 3.6 and beyond!\n",
      "en\n",
      "http://feedproxy.google.com/~r/PythonInsider/~3/ZLTGxjKhYp0/python-core-development-sprint-2016-36.html\n",
      "The Digital Cat: Python Mocks: a gentle introduction - Part 2\n",
      "en\n",
      "http://blog.thedigitalcatonline.com/blog/2016/09/27/python-mocks-a-gentle-introduction-part-2/\n",
      "Semaphore Community: Mocks and Monkeypatching in Python\n",
      "en\n",
      "https://semaphoreci.com/community/tutorials/mocks-and-monkeypatching-in-python\n",
      "Experienced Django: Shallow Dive into Django ORM\n",
      "en\n",
      "http://www.snowboardingcoder.com/django/?p=34\n",
      "Daniel Bader: Python Code Review: Unplugged – Episode 2\n",
      "en\n",
      "https://dbader.org/blog/python-code-review-unplugged-episode-2\n",
      "Django Weblog: Django security releases issued: 1.9.10 and 1.8.15\n",
      "en\n",
      "https://www.djangoproject.com/weblog/2016/sep/26/security-releases/\n",
      "Gocept Weblog: Last minute information for remote Sprinters for the Zope Resurrection Sprint\n",
      "en\n",
      "https://blog.gocept.com/2016/09/26/last-minute-information-for-remote-sprinters-for-the-zope-resurrection-sprint/\n",
      "Curtis Miller: An Introduction to Stock Market Data Analysis with Python (Part 2)\n",
      "en\n",
      "\n",
      "Doug Hellmann: copy — Duplicate Objects — PyMOTW 3\n",
      "en\n",
      "http://feeds.doughellmann.com/~r/doughellmann/python/~3/_OhSlMAUuOA/\n",
      "Mike Driscoll: PyDev of the Week: Katie McLaughlin\n",
      "en\n",
      "http://www.blog.pythonlibrary.org/2016/09/26/pydev-of-the-week-katie-mclaughlin/\n",
      "François Dion: Something for your mind: Polymath Podcast Episode 001\n",
      "en\n",
      "http://raspberry-python.blogspot.com/2016/09/something-for-your-mind-polymath_25.html\n",
      "Obey the Testing Goat: Plans for the second edition\n",
      "en\n",
      "http://www.obeythetestinggoat.com/plans-for-the-second-edition.html\n",
      "Abu Ashraf Masnun: Introduction to Django Channels\n",
      "en\n",
      "http://masnun.rocks/2016/09/25/introduction-to-django-channels/\n",
      "Krzysztof Żuraw: Archives from memory- libarchive\n",
      "en\n",
      "http://krzysztofzuraw.com/blog/2016/archives-from-memory.html\n",
      "Python 4 Kids: Python for Kids: Python 3 – Project 10\n",
      "en\n",
      "https://python4kids.brendanscott.com/2016/09/25/python-for-kids-python-3-project-10/\n",
      "Podcast.__init__: Episode 76 - PsychoPy with Jonathan Peirce\n",
      "en\n",
      "http://podcastinit.podbean.com/e/episode-76-psychopy-with-jonathan-peirce/\n",
      "Nick Craig-Wood: Snake Puzzle Solver\n",
      "en\n",
      "http://www.craig-wood.com/nick/articles/snake-puzzle\n"
     ]
    }
   ],
   "source": [
    "for f in feed.iterfind('channel/item'):\n",
    "  title = f.findtext('title')\n",
    "  date = f.findtext('date')\n",
    "  link = f.findtext('link')\n",
    "  print(title)\n",
    "  print(lang)\n",
    "  print(link)\n"
   ]
  },
  {
   "cell_type": "code",
   "execution_count": null,
   "metadata": {
    "collapsed": true
   },
   "outputs": [],
   "source": []
  }
 ],
 "metadata": {
  "anaconda-cloud": {},
  "kernelspec": {
   "display_name": "Python [Root]",
   "language": "python",
   "name": "Python [Root]"
  },
  "language_info": {
   "codemirror_mode": {
    "name": "ipython",
    "version": 3
   },
   "file_extension": ".py",
   "mimetype": "text/x-python",
   "name": "python",
   "nbconvert_exporter": "python",
   "pygments_lexer": "ipython3",
   "version": "3.5.2"
  }
 },
 "nbformat": 4,
 "nbformat_minor": 0
}
