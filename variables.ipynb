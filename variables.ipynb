{
 "cells": [
  {
   "cell_type": "markdown",
   "metadata": {
    "collapsed": true
   },
   "source": [
    "## Variables\n",
    "### Packing and unpacking sequences/iterables"
   ]
  },
  {
   "cell_type": "code",
   "execution_count": 33,
   "metadata": {
    "collapsed": false
   },
   "outputs": [
    {
     "name": "stdout",
     "output_type": "stream",
     "text": [
      "ACME 50 91.1 (2012, 12, 21)\n"
     ]
    }
   ],
   "source": [
    "data = [ 'ACME', 50, 91.1, (2012, 12, 21) ]\n",
    "name, shares, price, date = data\n",
    "print(name, shares, price, date)"
   ]
  },
  {
   "cell_type": "code",
   "execution_count": 34,
   "metadata": {
    "collapsed": false
   },
   "outputs": [
    {
     "name": "stdout",
     "output_type": "stream",
     "text": [
      "2012 12 21\n"
     ]
    }
   ],
   "source": [
    "(year, month, day) = date\n",
    "print(year, month, day)"
   ]
  },
  {
   "cell_type": "markdown",
   "metadata": {},
   "source": [
    "#### Unpacking string"
   ]
  },
  {
   "cell_type": "code",
   "execution_count": 35,
   "metadata": {
    "collapsed": false
   },
   "outputs": [
    {
     "name": "stdout",
     "output_type": "stream",
     "text": [
      "P y t h o n\n"
     ]
    }
   ],
   "source": [
    "example_string = \"Python\"\n",
    "a, b, c, d, e, f = example_string\n",
    "print(a, b, c, d, e, f)"
   ]
  },
  {
   "cell_type": "markdown",
   "metadata": {},
   "source": [
    "#### Unpacking and skipping (or keeping) variables"
   ]
  },
  {
   "cell_type": "code",
   "execution_count": 36,
   "metadata": {
    "collapsed": false
   },
   "outputs": [
    {
     "name": "stdout",
     "output_type": "stream",
     "text": [
      "o n y t\n"
     ]
    }
   ],
   "source": [
    "#skip/keep as you like\n",
    "example_string = \"Python\"\n",
    "_, b, c, _, e, f = example_string\n",
    "print(e, f, b, c)"
   ]
  },
  {
   "cell_type": "markdown",
   "metadata": {},
   "source": [
    "### Unpacking elements with \"star expression\""
   ]
  },
  {
   "cell_type": "markdown",
   "metadata": {},
   "source": [
    "#### Use case: \n",
    "Suppose you have user records that consist of a name and email address, followed by an arbitrary number of phone numbers. You could unpack the records such that all phone number are read into a single variable.\n",
    "The 'phone_numbers' variable will always be a list."
   ]
  },
  {
   "cell_type": "code",
   "execution_count": 37,
   "metadata": {
    "collapsed": false
   },
   "outputs": [
    {
     "name": "stdout",
     "output_type": "stream",
     "text": [
      "Name: Dave\n",
      "E-mail:  dave@example.com\n",
      "Phone numbers:  773-555-1212 847-555-1212\n",
      "Phone numbers:  ['773-555-1212', '847-555-1212']\n"
     ]
    }
   ],
   "source": [
    "record = ('Dave', 'dave@example.com', '773-555-1212', '847-555-1212')\n",
    "name, email, *phone_numbers = record\n",
    "print(\"Name:\", name)\n",
    "print(\"E-mail: \", email) \n",
    "print(\"Phone numbers: \", *phone_numbers)\n",
    "print(\"Phone numbers: \", phone_numbers)"
   ]
  },
  {
   "cell_type": "code",
   "execution_count": 38,
   "metadata": {
    "collapsed": false
   },
   "outputs": [
    {
     "name": "stdout",
     "output_type": "stream",
     "text": [
      "<class 'list'>\n"
     ]
    }
   ],
   "source": [
    "print(type(phone_numbers))"
   ]
  },
  {
   "cell_type": "code",
   "execution_count": 39,
   "metadata": {
    "collapsed": false
   },
   "outputs": [
    {
     "name": "stdout",
     "output_type": "stream",
     "text": [
      "rock paper scissors [2000, 1000] December\n"
     ]
    }
   ],
   "source": [
    "# star expression example\n",
    "L = [\"rock\", \"paper\", \"scissors\", 2000, 1000, \"December\"]\n",
    "thing_1, thing_2, thing_3, *years, month = L\n",
    "print(thing_1, thing_2, thing_3, years, month)"
   ]
  },
  {
   "cell_type": "code",
   "execution_count": 40,
   "metadata": {
    "collapsed": false
   },
   "outputs": [
    {
     "name": "stdout",
     "output_type": "stream",
     "text": [
      "uname:  nobody\n",
      "fields:  ['*', '-2', '-2', 'Unprivileged User']\n",
      "homedir:  /var/empty\n",
      "sh:  /usr/bin/false\n"
     ]
    }
   ],
   "source": [
    "#Star unpacking can also be useful when combined with certain kinds of string processing\n",
    "#operations, such as splitting. For example:\n",
    "line = 'nobody:*:-2:-2:Unprivileged User:/var/empty:/usr/bin/false'\n",
    "uname, *fields, homedir, sh = line.split(':')\n",
    "print(\"uname: \",uname)\n",
    "print(\"fields: \", fields)\n",
    "print(\"homedir: \", homedir)\n",
    "print(\"sh: \", sh)"
   ]
  },
  {
   "cell_type": "markdown",
   "metadata": {},
   "source": [
    "### Keeping the last N elements\n",
    "#### Package: collections\n",
    "#### Method: deque"
   ]
  },
  {
   "cell_type": "code",
   "execution_count": 64,
   "metadata": {
    "collapsed": true
   },
   "outputs": [],
   "source": [
    "from collections import deque"
   ]
  },
  {
   "cell_type": "code",
   "execution_count": 65,
   "metadata": {
    "collapsed": false
   },
   "outputs": [
    {
     "name": "stdout",
     "output_type": "stream",
     "text": [
      "deque([0], maxlen=4)\n",
      "deque([0, 1], maxlen=4)\n",
      "deque([0, 1, 2], maxlen=4)\n",
      "deque([0, 1, 2, 3], maxlen=4)\n",
      "deque([1, 2, 3, 4], maxlen=4)\n",
      "deque([2, 3, 4, 5], maxlen=4)\n",
      "deque([3, 4, 5, 6], maxlen=4)\n",
      "deque([4, 5, 6, 7], maxlen=4)\n",
      "deque([5, 6, 7, 8], maxlen=4)\n",
      "deque([6, 7, 8, 9], maxlen=4)\n",
      "deque([7, 8, 9, 10], maxlen=4)\n",
      "deque([8, 9, 10, 11], maxlen=4)\n",
      "deque([9, 10, 11, 12], maxlen=4)\n",
      "deque([10, 11, 12, 13], maxlen=4)\n",
      "deque([11, 12, 13, 14], maxlen=4)\n",
      "deque([12, 13, 14, 15], maxlen=4)\n",
      "deque([13, 14, 15, 16], maxlen=4)\n",
      "deque([14, 15, 16, 17], maxlen=4)\n",
      "deque([15, 16, 17, 18], maxlen=4)\n",
      "deque([16, 17, 18, 19], maxlen=4)\n",
      "deque([17, 18, 19, 20], maxlen=4)\n"
     ]
    }
   ],
   "source": [
    "N = 4\n",
    "\n",
    "sequence = deque(maxlen=N)\n",
    "for i in range(21):\n",
    "    sequence.append(i)\n",
    "    print(sequence)"
   ]
  },
  {
   "cell_type": "code",
   "execution_count": 66,
   "metadata": {
    "collapsed": false
   },
   "outputs": [
    {
     "name": "stdout",
     "output_type": "stream",
     "text": [
      "deque([17, 18, 19, 20], maxlen=4)\n",
      "<class 'collections.deque'>\n"
     ]
    }
   ],
   "source": [
    "# a deque object\n",
    "print(sequence)\n",
    "print(type(sequence))\n",
    "\n"
   ]
  },
  {
   "cell_type": "code",
   "execution_count": 67,
   "metadata": {
    "collapsed": false
   },
   "outputs": [
    {
     "name": "stdout",
     "output_type": "stream",
     "text": [
      "17\n",
      "<class 'int'>\n",
      "4\n",
      "[17, 18, 19, 20] [17, 18]\n"
     ]
    }
   ],
   "source": [
    "# access elememnts from deque\n",
    "print(sequence[0])\n",
    "print(type(sequence[0]))\n",
    "\n",
    "# list methods DOES NOT apply to deque objects\n",
    "# >>> print(sequence[0:2]) # doesn't work\n",
    "print(len(sequence))\n",
    "\n",
    "\n",
    "seq_list = list(sequence)\n",
    "print(seq_list, seq_list[0:2])"
   ]
  },
  {
   "cell_type": "markdown",
   "metadata": {},
   "source": [
    "#### pop methods for deque objects"
   ]
  },
  {
   "cell_type": "code",
   "execution_count": 69,
   "metadata": {
    "collapsed": false
   },
   "outputs": [
    {
     "data": {
      "text/plain": [
       "deque([1, 2, 3, 4])"
      ]
     },
     "execution_count": 69,
     "metadata": {},
     "output_type": "execute_result"
    }
   ],
   "source": [
    "q  = deque(maxlen=10)\n",
    "for i in range(1,5):\n",
    "  q.append(i)\n",
    "q"
   ]
  },
  {
   "cell_type": "code",
   "execution_count": 70,
   "metadata": {
    "collapsed": false
   },
   "outputs": [
    {
     "data": {
      "text/plain": [
       "deque([0, 1, 2, 3, 4])"
      ]
     },
     "execution_count": 70,
     "metadata": {},
     "output_type": "execute_result"
    }
   ],
   "source": [
    "# append to left\n",
    "q.appendleft(0)\n",
    "q"
   ]
  },
  {
   "cell_type": "code",
   "execution_count": 71,
   "metadata": {
    "collapsed": false
   },
   "outputs": [
    {
     "data": {
      "text/plain": [
       "deque([1, 2, 3, 4])"
      ]
     },
     "execution_count": 71,
     "metadata": {},
     "output_type": "execute_result"
    }
   ],
   "source": [
    "# pop from left\n",
    "q.popleft()\n",
    "q"
   ]
  },
  {
   "cell_type": "code",
   "execution_count": 72,
   "metadata": {
    "collapsed": false
   },
   "outputs": [
    {
     "data": {
      "text/plain": [
       "deque([1, 2, 3, 4, 5])"
      ]
     },
     "execution_count": 72,
     "metadata": {},
     "output_type": "execute_result"
    }
   ],
   "source": [
    "# append to right. just use append()\n",
    "q.append(5)\n",
    "q"
   ]
  },
  {
   "cell_type": "code",
   "execution_count": 73,
   "metadata": {
    "collapsed": false
   },
   "outputs": [
    {
     "data": {
      "text/plain": [
       "deque([1, 2, 3, 4])"
      ]
     },
     "execution_count": 73,
     "metadata": {},
     "output_type": "execute_result"
    }
   ],
   "source": [
    "# pop from right. just use pop()\n",
    "q.pop()\n",
    "q"
   ]
  },
  {
   "cell_type": "markdown",
   "metadata": {},
   "source": [
    "### Finding N smallest and N largest values in a sequence\n",
    "#### Package: heapq"
   ]
  },
  {
   "cell_type": "code",
   "execution_count": 92,
   "metadata": {
    "collapsed": true
   },
   "outputs": [],
   "source": [
    "import heapq\n",
    "import random"
   ]
  },
  {
   "cell_type": "code",
   "execution_count": 93,
   "metadata": {
    "collapsed": false
   },
   "outputs": [
    {
     "data": {
      "text/plain": [
       "[53, 93, 1, 38, 47, 24, 34, 72, 55, 20]"
      ]
     },
     "execution_count": 93,
     "metadata": {},
     "output_type": "execute_result"
    }
   ],
   "source": [
    "random.seed(12345)\n",
    "seq = random.sample(range(0, 101), 10)\n",
    "seq"
   ]
  },
  {
   "cell_type": "code",
   "execution_count": 94,
   "metadata": {
    "collapsed": false
   },
   "outputs": [
    {
     "name": "stdout",
     "output_type": "stream",
     "text": [
      "[1, 20, 24]\n"
     ]
    }
   ],
   "source": [
    "# S smallest\n",
    "S = 3\n",
    "smallest_in_seq = heapq.nsmallest(S, seq)\n",
    "print(smallest_in_seq)"
   ]
  },
  {
   "cell_type": "code",
   "execution_count": 96,
   "metadata": {
    "collapsed": false
   },
   "outputs": [
    {
     "name": "stdout",
     "output_type": "stream",
     "text": [
      "[93, 72, 55, 53]\n"
     ]
    }
   ],
   "source": [
    "# L largest\n",
    "L = 4\n",
    "largest_in_seq = heapq.nlargest(L, seq)\n",
    "print(largest_in_seq)"
   ]
  },
  {
   "cell_type": "code",
   "execution_count": null,
   "metadata": {
    "collapsed": true
   },
   "outputs": [],
   "source": [
    "#### Accessing smallest and largest by keywords"
   ]
  },
  {
   "cell_type": "code",
   "execution_count": 98,
   "metadata": {
    "collapsed": false
   },
   "outputs": [
    {
     "data": {
      "text/plain": [
       "[{'age': 22, 'name': 'Amy'},\n",
       " {'age': 32, 'name': 'Bob'},\n",
       " {'age': 12, 'name': 'Cat'},\n",
       " {'age': 72, 'name': 'Dan'},\n",
       " {'age': 99, 'name': 'Eel'},\n",
       " {'age': 11, 'name': 'Fox'},\n",
       " {'age': 29, 'name': 'Gem'},\n",
       " {'age': 10, 'name': 'Hua'},\n",
       " {'age': 33, 'name': 'Ian'},\n",
       " {'age': 10, 'name': 'Jim'},\n",
       " {'age': 39, 'name': 'Kay'},\n",
       " {'age': 25, 'name': 'Lin'},\n",
       " {'age': 30, 'name': 'Mom'},\n",
       " {'age': 99, 'name': 'Nun'}]"
      ]
     },
     "execution_count": 98,
     "metadata": {},
     "output_type": "execute_result"
    }
   ],
   "source": [
    "data = [\\\n",
    "       {\"name\": 'Amy', \"age\": 22},\\\n",
    "       {\"name\": 'Bob', \"age\": 32},\\\n",
    "       {\"name\": 'Cat', \"age\": 12},\\\n",
    "       {\"name\": 'Dan', \"age\": 72},\\\n",
    "       {\"name\": 'Eel', \"age\": 99},\\\n",
    "       {\"name\": 'Fox', \"age\": 11},\\\n",
    "       {\"name\": 'Gem', \"age\": 29},\\\n",
    "       {\"name\": 'Hua', \"age\": 10},\\\n",
    "       {\"name\": 'Ian', \"age\": 33},\\\n",
    "       {\"name\": 'Jim', \"age\": 10},\\\n",
    "       {\"name\": 'Kay', \"age\": 39},\\\n",
    "       {\"name\": 'Lin', \"age\": 25},\\\n",
    "       {\"name\": 'Mom', \"age\": 30},\\\n",
    "       {\"name\": 'Nun', \"age\": 99}\\\n",
    "       ]\n",
    "data"
   ]
  },
  {
   "cell_type": "code",
   "execution_count": 103,
   "metadata": {
    "collapsed": false
   },
   "outputs": [
    {
     "name": "stdout",
     "output_type": "stream",
     "text": [
      "[{'name': 'Hua', 'age': 10}, {'name': 'Jim', 'age': 10}, {'name': 'Fox', 'age': 11}]\n",
      "[{'name': 'Eel', 'age': 99}, {'name': 'Nun', 'age': 99}, {'name': 'Dan', 'age': 72}]\n"
     ]
    }
   ],
   "source": [
    "print(heapq.nsmallest(3, data, key=lambda s: s['age']))\n",
    "print(heapq.nlargest(3, data, key=lambda s: s['age']))"
   ]
  },
  {
   "cell_type": "markdown",
   "metadata": {},
   "source": [
    "# Something's wrong\n",
    "### smallest and subsequesnt items "
   ]
  },
  {
   "cell_type": "code",
   "execution_count": 141,
   "metadata": {
    "collapsed": false
   },
   "outputs": [
    {
     "data": {
      "text/plain": [
       "[38, 1, 19, 29, 44, 69, 43, 20, 49, 41]"
      ]
     },
     "execution_count": 141,
     "metadata": {},
     "output_type": "execute_result"
    }
   ],
   "source": [
    "import random\n",
    "seq = random.sample(range(100), 10)\n",
    "seq"
   ]
  },
  {
   "cell_type": "code",
   "execution_count": 142,
   "metadata": {
    "collapsed": false
   },
   "outputs": [
    {
     "name": "stdout",
     "output_type": "stream",
     "text": [
      "[38, 1, 19, 29, 44, 69, 43, 20, 49, 41]\n",
      "None\n"
     ]
    }
   ],
   "source": [
    "# create a heap with heapify\n",
    "print(seq)\n",
    "heap = heapq.heapify(seq)\n",
    "print(heap)"
   ]
  },
  {
   "cell_type": "code",
   "execution_count": null,
   "metadata": {
    "collapsed": true
   },
   "outputs": [],
   "source": []
  },
  {
   "cell_type": "code",
   "execution_count": null,
   "metadata": {
    "collapsed": true
   },
   "outputs": [],
   "source": []
  },
  {
   "cell_type": "code",
   "execution_count": null,
   "metadata": {
    "collapsed": true
   },
   "outputs": [],
   "source": []
  },
  {
   "cell_type": "markdown",
   "metadata": {},
   "source": [
    "#### Range of values (asceding and descending order)"
   ]
  },
  {
   "cell_type": "code",
   "execution_count": 12,
   "metadata": {
    "collapsed": false
   },
   "outputs": [
    {
     "data": {
      "text/plain": [
       "[1, 2, 3, 4, 5, 6, 7, 8, 9]"
      ]
     },
     "execution_count": 12,
     "metadata": {},
     "output_type": "execute_result"
    }
   ],
   "source": [
    "# Syntax >>> a_list = list(range(xmin, xmax, increment))\n",
    "ascending_list = list(range(1, 10, 1))\n",
    "ascending_list"
   ]
  },
  {
   "cell_type": "code",
   "execution_count": 13,
   "metadata": {
    "collapsed": false
   },
   "outputs": [
    {
     "data": {
      "text/plain": [
       "[1, 4, 7, 10, 13, 16, 19]"
      ]
     },
     "execution_count": 13,
     "metadata": {},
     "output_type": "execute_result"
    }
   ],
   "source": [
    "# Syntax >>> a_list = list(range(xmin, xmax, increment))\n",
    "ascending_list = list(range(1, 20, 3))\n",
    "ascending_list"
   ]
  },
  {
   "cell_type": "code",
   "execution_count": 14,
   "metadata": {
    "collapsed": false
   },
   "outputs": [
    {
     "data": {
      "text/plain": [
       "[4, 3, 2, 1, 0]"
      ]
     },
     "execution_count": 14,
     "metadata": {},
     "output_type": "execute_result"
    }
   ],
   "source": [
    "# Syntax >>> a_list = list(range(xmax, xmin, decrement))\n",
    "descendind_list = list(range(4, -1, -1))\n",
    "descendind_list"
   ]
  },
  {
   "cell_type": "code",
   "execution_count": 5,
   "metadata": {
    "collapsed": false
   },
   "outputs": [
    {
     "data": {
      "text/plain": [
       "[10, 8, 6, 4, 2]"
      ]
     },
     "execution_count": 5,
     "metadata": {},
     "output_type": "execute_result"
    }
   ],
   "source": [
    "# Syntax >>> a_list = list(range(xmax, xmin, decrement))\n",
    "descendind_list = list(range(10, 1, -2))\n",
    "descendind_list"
   ]
  },
  {
   "cell_type": "code",
   "execution_count": 82,
   "metadata": {
    "collapsed": false
   },
   "outputs": [
    {
     "name": "stdout",
     "output_type": "stream",
     "text": [
      "111\n",
      "222\n",
      "333\n",
      "<class 'int'>\n",
      "<class 'int'>\n",
      "<class 'int'>\n"
     ]
    }
   ],
   "source": [
    "(x, y, z) = (111, 222, 333)\n",
    "print(x)\n",
    "print(y)\n",
    "print(z)\n",
    "print(type(x))\n",
    "print(type(y))\n",
    "print(type(z))"
   ]
  },
  {
   "cell_type": "code",
   "execution_count": 83,
   "metadata": {
    "collapsed": false
   },
   "outputs": [
    {
     "name": "stdout",
     "output_type": "stream",
     "text": [
      "(2012, 12, 31) <class 'tuple'>\n",
      "31 <class 'int'>\n"
     ]
    }
   ],
   "source": [
    "my_list = ['book', 707, 59.99, (2012, 12, 31)]\n",
    "thing, pages, price, date  = my_list\n",
    "\n",
    "# same as\n",
    "# my_list = thing, pages, price, date   #not good coding ethic\n",
    "# my_list = [thing, pages, price, date] #not good coding ethic\n",
    "print(date, type(date))\n",
    "(year, month, day) = date\n",
    "print(day, type(day))"
   ]
  },
  {
   "cell_type": "code",
   "execution_count": 84,
   "metadata": {
    "collapsed": false
   },
   "outputs": [
    {
     "name": "stdout",
     "output_type": "stream",
     "text": [
      "Dave <class 'str'>\n",
      "dave@example.com <class 'str'>\n",
      "773-555-1212 847-555-1212 212-334-0978 670-456-8989 <class 'list'> 4\n"
     ]
    }
   ],
   "source": [
    "# star expressions\n",
    "# when there are too many values to unpack\n",
    "record = ('Dave', 'dave@example.com', '773-555-1212', '847-555-1212', '212-334-0978', '670-456-8989')\n",
    "name, email, *phone_numbers = record\n",
    "print(name, type(name))\n",
    "print(email, type(email))\n",
    "print(*phone_numbers, type(phone_numbers), len(phone_numbers))"
   ]
  },
  {
   "cell_type": "code",
   "execution_count": 85,
   "metadata": {
    "collapsed": false
   },
   "outputs": [
    {
     "name": "stdout",
     "output_type": "stream",
     "text": [
      "['nobody', '*', '-2', '-2', 'Unprivileged User', '/var/empty', '/usr/bin/false']\n",
      "* -2 -2 Unprivileged User\n",
      "/usr/bin/false\n"
     ]
    }
   ],
   "source": [
    "line = 'nobody:*:-2:-2:Unprivileged User:/var/empty:/usr/bin/false'\n",
    "x = line.split(\":\")\n",
    "print(x)\n",
    "usr_name, *whatever, home_dir, sh = line.split(\":\")\n",
    "print(*whatever)\n",
    "print(sh)"
   ]
  },
  {
   "cell_type": "code",
   "execution_count": 86,
   "metadata": {
    "collapsed": true
   },
   "outputs": [],
   "source": [
    "# star expression is useful during function call when the number of arguments can vary\n",
    "def do_something(*args):\n",
    "    pass"
   ]
  },
  {
   "cell_type": "code",
   "execution_count": 87,
   "metadata": {
    "collapsed": false
   },
   "outputs": [
    {
     "name": "stdout",
     "output_type": "stream",
     "text": [
      "deque([0, 1, 2], maxlen=3)\n",
      "deque([1, 2, 3], maxlen=3)\n",
      "deque([2, 3, 4], maxlen=3)\n",
      "deque([3, 4, 5], maxlen=3)\n",
      "deque([4, 5, 6], maxlen=3)\n",
      "deque([5, 6, 7], maxlen=3)\n",
      "deque([6, 7, 8], maxlen=3)\n",
      "deque([7, 8, 9], maxlen=3)\n",
      "deque([7, 8, 9], maxlen=3)\n",
      "<class 'collections.deque'>\n",
      "[7, 8, 9] <class 'list'>\n"
     ]
    }
   ],
   "source": [
    "# Keep the last N items\n",
    "from collections import deque\n",
    "\n",
    "L = deque(maxlen = 3)\n",
    "for i in range(10):\n",
    "    L.append(i)\n",
    "    if len(L) == 3:\n",
    "      print(L)\n",
    "print(L)\n",
    "print(type(L))\n",
    "\n",
    "my_list = list(L)\n",
    "print(my_list, type(my_list))"
   ]
  },
  {
   "cell_type": "code",
   "execution_count": 88,
   "metadata": {
    "collapsed": false
   },
   "outputs": [
    {
     "name": "stdout",
     "output_type": "stream",
     "text": [
      "deque([7, 8, 9], maxlen=3)\n",
      "deque([-100, 7, 8], maxlen=3)\n",
      "deque([7, 8, 100], maxlen=3)\n",
      "deque([8], maxlen=3)\n"
     ]
    }
   ],
   "source": [
    "#append: left (append.left()) and right (append()))\n",
    "#pop: left (popleft) and right (pop)\n",
    "\n",
    "print(L)\n",
    "L.appendleft(-100)  #popleft == appendleft\n",
    "print(L)\n",
    "L.append(100)\n",
    "print(L)\n",
    "\n",
    "L.popleft()\n",
    "L.pop()\n",
    "print(L)\n",
    "\n",
    "\n"
   ]
  },
  {
   "cell_type": "code",
   "execution_count": 89,
   "metadata": {
    "collapsed": false
   },
   "outputs": [
    {
     "name": "stdout",
     "output_type": "stream",
     "text": [
      "[7, 8, 9]\n",
      "[-100, 7, 8, 9]\n",
      "[-100, 7, 8, 9, 100]\n",
      "[-100, 7, 8, 9]\n",
      "[7, 8, 9]\n"
     ]
    }
   ],
   "source": [
    "## 'list' object has no attribute 'popleft'\n",
    "## 'list' object has no attribute 'appendleft'\n",
    "\n",
    "print(my_list)\n",
    "\n",
    "# appendleft(-100) to a list\n",
    "my_list = [-100] + my_list\n",
    "print(my_list)\n",
    "my_list.append(100)\n",
    "print(my_list)\n",
    "\n",
    "\n",
    "my_list.pop()\n",
    "print(my_list)\n",
    "\n",
    "my_list.pop(0)\n",
    "print(my_list)"
   ]
  },
  {
   "cell_type": "code",
   "execution_count": 90,
   "metadata": {
    "collapsed": false
   },
   "outputs": [
    {
     "name": "stdout",
     "output_type": "stream",
     "text": [
      "[42, 37, 23]\n",
      "[-4, 1, 2]\n"
     ]
    }
   ],
   "source": [
    "# N largest and smallest values\n",
    "import heapq\n",
    "nums = [1, 8, 2, 23, 7, -4, 18, 23, 42, 37, 2]\n",
    "print(heapq.nlargest(3, nums)) # Prints [42, 37, 23]\n",
    "print(heapq.nsmallest(3, nums)) # Prints [-4, 1, 2]\n"
   ]
  },
  {
   "cell_type": "code",
   "execution_count": 91,
   "metadata": {
    "collapsed": false
   },
   "outputs": [
    {
     "name": "stdout",
     "output_type": "stream",
     "text": [
      "[{'price': 16.35, 'shares': 45, 'name': 'YHOO'}, {'price': 21.09, 'shares': 200, 'name': 'FB'}, {'price': 31.75, 'shares': 35, 'name': 'HPQ'}]\n",
      "[{'price': 543.22, 'shares': 50, 'name': 'AAPL'}, {'price': 115.65, 'shares': 75, 'name': 'ACME'}, {'price': 91.1, 'shares': 100, 'name': 'IBM'}]\n"
     ]
    }
   ],
   "source": [
    "# heapq works with key/values\n",
    "portfolio = [\n",
    "{'name': 'IBM', 'shares': 100, 'price': 91.1},\n",
    "{'name': 'AAPL', 'shares': 50, 'price': 543.22},\n",
    "{'name': 'FB', 'shares': 200, 'price': 21.09},\n",
    "{'name': 'HPQ', 'shares': 35, 'price': 31.75},\n",
    "{'name': 'YHOO', 'shares': 45, 'price': 16.35},\n",
    "{'name': 'ACME', 'shares': 75, 'price': 115.65}  ]\n",
    "\n",
    "cheap = heapq.nsmallest(3, portfolio, key=lambda s: s['price'])\n",
    "print(cheap)\n",
    "expensive = heapq.nlargest(3, portfolio, key=lambda s: s['price'])\n",
    "print(expensive)"
   ]
  },
  {
   "cell_type": "code",
   "execution_count": 92,
   "metadata": {
    "collapsed": false
   },
   "outputs": [
    {
     "name": "stdout",
     "output_type": "stream",
     "text": [
      "[-9, 0, 4, 3, 3, 13, 55]\n",
      "-9\n"
     ]
    }
   ],
   "source": [
    "# heapq is powerful\n",
    "# consider - heapify, heappop, heapq[0]\n",
    "heap = [4, 3, -9, 0, 3, 13, 55]  #list(nums)\n",
    "heapq.heapify(heap)\n",
    "print(heap)\n",
    "[-4, 2, 1, 23, 7, 2, 18, 23, 42, 37, 8]\n",
    "print(heap[0])  # heap[0] is always the smallest number. Use pop() for subsequent numbers.\n",
    "\n",
    "### do not use heapq if you are just looking for min or max. min() and max() are less expensity than \n",
    "### heapq.nsmallest() and heapq.nlargest() in these cases.\n",
    "### use sort() when N is large or N is almost the size of the entire array.\n"
   ]
  },
  {
   "cell_type": "code",
   "execution_count": 96,
   "metadata": {
    "collapsed": false
   },
   "outputs": [],
   "source": [
    "# implementing a priority queue\n",
    "import heapq\n",
    "class PriorityQueue:\n",
    "  def __init__(self):\n",
    "    self._queue = []\n",
    "    self._index = 0\n",
    "  def push(self, item, priority):\n",
    "    heapq.heappush(self._queue, (-priority, self._index, item))\n",
    "    self._index += 1\n",
    "  def pop(self):\n",
    "    return heapq.heappop(self._queue)[-1]\n",
    "\n",
    "class Item:\n",
    "  def __init__(self, name):\n",
    "    self.name = name\n",
    "  def __repr__(self):\n",
    "    return 'Item({!r})'.format(self.name)"
   ]
  },
  {
   "cell_type": "code",
   "execution_count": 99,
   "metadata": {
    "collapsed": false
   },
   "outputs": [
    {
     "name": "stdout",
     "output_type": "stream",
     "text": [
      "<__main__.PriorityQueue object at 0x104231eb8>\n",
      "Item('foo')\n"
     ]
    }
   ],
   "source": [
    "q = PriorityQueue()\n",
    "print(q)\n",
    "\n",
    "itm = Item('foo')\n",
    "print(itm)"
   ]
  },
  {
   "cell_type": "code",
   "execution_count": 110,
   "metadata": {
    "collapsed": false
   },
   "outputs": [],
   "source": [
    "q.push(Item('foo'), 1)\n",
    "q.push(Item('bar'), 2)\n",
    "q.push(Item('spam'), 3)\n",
    "q.push(Item('grok'), 4)"
   ]
  },
  {
   "cell_type": "code",
   "execution_count": 111,
   "metadata": {
    "collapsed": false
   },
   "outputs": [
    {
     "data": {
      "text/plain": [
       "Item('foo')"
      ]
     },
     "execution_count": 111,
     "metadata": {},
     "output_type": "execute_result"
    }
   ],
   "source": [
    "q.pop()"
   ]
  },
  {
   "cell_type": "code",
   "execution_count": 112,
   "metadata": {
    "collapsed": false
   },
   "outputs": [
    {
     "data": {
      "text/plain": [
       "Item('bar')"
      ]
     },
     "execution_count": 112,
     "metadata": {},
     "output_type": "execute_result"
    }
   ],
   "source": [
    "q.pop()"
   ]
  },
  {
   "cell_type": "code",
   "execution_count": 113,
   "metadata": {
    "collapsed": false
   },
   "outputs": [
    {
     "data": {
      "text/plain": [
       "Item('spam')"
      ]
     },
     "execution_count": 113,
     "metadata": {},
     "output_type": "execute_result"
    }
   ],
   "source": [
    "q.pop()"
   ]
  },
  {
   "cell_type": "code",
   "execution_count": 114,
   "metadata": {
    "collapsed": false
   },
   "outputs": [
    {
     "data": {
      "text/plain": [
       "Item('grok')"
      ]
     },
     "execution_count": 114,
     "metadata": {},
     "output_type": "execute_result"
    }
   ],
   "source": [
    "q.pop()"
   ]
  },
  {
   "cell_type": "code",
   "execution_count": 116,
   "metadata": {
    "collapsed": false
   },
   "outputs": [
    {
     "name": "stdout",
     "output_type": "stream",
     "text": [
      "True\n",
      "False\n"
     ]
    }
   ],
   "source": [
    "# Python never bothers to compare the remaining tuple values\n",
    "a, b, c = (\"Xenon\", 1, 4), (\"Rips\", 4, 1), (\"Zips\", 10, 0)\n",
    "print(a>b)\n",
    "print(b>c)"
   ]
  },
  {
   "cell_type": "code",
   "execution_count": 117,
   "metadata": {
    "collapsed": false
   },
   "outputs": [
    {
     "name": "stdout",
     "output_type": "stream",
     "text": [
      "False\n",
      "False\n"
     ]
    }
   ],
   "source": [
    "a, b, c = (1, 4, \"Xenon\"), (4, 1, \"Rips\"), (10, 0, \"Zips\")\n",
    "print(a>b)\n",
    "print(b>c)"
   ]
  },
  {
   "cell_type": "code",
   "execution_count": 124,
   "metadata": {
    "collapsed": false
   },
   "outputs": [
    {
     "name": "stdout",
     "output_type": "stream",
     "text": [
      "defaultdict(<class 'list'>, {})\n",
      "defaultdict(<class 'list'>, {'b': ['bug', 'bee'], 'a': ['apple', 'animal']})\n"
     ]
    }
   ],
   "source": [
    "# dictionary using defaultdict()\n",
    "from collections import defaultdict\n",
    "d = defaultdict(list)\n",
    "print(d)\n",
    "d['a'].append('apple')\n",
    "d['a'].append('animal')\n",
    "d['b']  = d['b'] + ['bug', 'bee']\n",
    "print(d)"
   ]
  },
  {
   "cell_type": "code",
   "execution_count": 128,
   "metadata": {
    "collapsed": false
   },
   "outputs": [
    {
     "name": "stdout",
     "output_type": "stream",
     "text": [
      "defaultdict(None, {})\n",
      "defaultdict(None, {'a': ('apple', 'animal')})\n",
      "<class 'tuple'>\n"
     ]
    }
   ],
   "source": [
    "d = defaultdict()\n",
    "print(d)\n",
    "d['a'] = 'apple'\n",
    "d['a'] = 'apple', 'animal'\n",
    "print(d)\n",
    "print(type(d['a']))"
   ]
  },
  {
   "cell_type": "code",
   "execution_count": null,
   "metadata": {
    "collapsed": true
   },
   "outputs": [],
   "source": [
    "# To control the order of items in a dictionary, you can use an OrderedDict from the\n",
    "# collections module.\n",
    "# An OrderedDict can be particularly useful when you want to build a mapping that you\n",
    "# may want to later serialize or encode into a different format. For example, if you want\n",
    "# to precisely control the order of fields appearing in a JSON encoding.\n",
    "# Be aware that the size of an OrderedDict is more than twice as large as a normal dictionary\n",
    "# due to the extra linked list that’s created.\n"
   ]
  },
  {
   "cell_type": "code",
   "execution_count": null,
   "metadata": {
    "collapsed": true
   },
   "outputs": [],
   "source": [
    "# Calculating with dictionaries\n",
    "\n",
    "# min, max and sort\n"
   ]
  }
 ],
 "metadata": {
  "anaconda-cloud": {},
  "kernelspec": {
   "display_name": "Python [Root]",
   "language": "python",
   "name": "Python [Root]"
  },
  "language_info": {
   "codemirror_mode": {
    "name": "ipython",
    "version": 3
   },
   "file_extension": ".py",
   "mimetype": "text/x-python",
   "name": "python",
   "nbconvert_exporter": "python",
   "pygments_lexer": "ipython3",
   "version": "3.5.2"
  }
 },
 "nbformat": 4,
 "nbformat_minor": 0
}
