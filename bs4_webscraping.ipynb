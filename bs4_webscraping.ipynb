{
 "cells": [
  {
   "cell_type": "markdown",
   "metadata": {},
   "source": [
    "### Web Scraping basics using BeautifulSoup \n",
    "https://www.dataquest.io/blog/web-scraping-tutorial-python/"
   ]
  },
  {
   "cell_type": "markdown",
   "metadata": {},
   "source": [
    "#### Components of a web page\n",
    "When we visit a web page, our web browser makes a request to a web server. This request is called a GET request (for getting files from the server). The server then sends back files that tell our browser how to render the page for us. The files fall into a few main types:\n",
    "\n",
    "* **HTML** – contain the main content of the page.\n",
    "* **CSS** – add styling to make the page look nicer.\n",
    "* **JS** – Javascript files add interactivity to web pages.\n",
    "* **Images** – image formats, such as JPG and PNG allow web pages to show pictures."
   ]
  },
  {
   "cell_type": "markdown",
   "metadata": {},
   "source": [
    "#### HTML Tags\n",
    "\n",
    "Common tags: \n",
    "* < html > - this tag tells the web browser that everything inside of it is HTML. \n",
    "* < head > - contains data about the title of the page, and other information that generally isn’t useful in web scraping\n",
    "* < body > - The main content of the web page goes into the body tag.\n",
    "* < p > - paragraph\n",
    "* < a > - links\n",
    "* < div > – indicates a division, or area, of the page.\n",
    "* < b > – bolds any text inside.\n",
    "* < i > – italicizes any text inside.\n",
    "* < table > – creates a table.\n",
    "* < form > – creates an input form.\n",
    "* < style > - contains style information for a document, or part of a document. By default, the style instructions written inside that element are expected to be CSS."
   ]
  },
  {
   "cell_type": "markdown",
   "metadata": {},
   "source": [
    "#### Requests\n",
    "After running `get request` using Python's **request library**, we get a Response object. This object has a `status_code` property, which indicates if the page was downloaded successfully or not."
   ]
  },
  {
   "cell_type": "markdown",
   "metadata": {},
   "source": [
    "### Example 1"
   ]
  },
  {
   "cell_type": "markdown",
   "metadata": {},
   "source": [
    "#### TEST: Download and find the parent, child and sibling tags of a *simple* webpage:\n",
    "`\"http://dataquestio.github.io/web-scraping-pages/simple.html\"`"
   ]
  },
  {
   "cell_type": "code",
   "execution_count": 71,
   "metadata": {
    "collapsed": true
   },
   "outputs": [],
   "source": [
    "import bs4\n",
    "from bs4 import BeautifulSoup\n",
    "import requests"
   ]
  },
  {
   "cell_type": "markdown",
   "metadata": {},
   "source": [
    "#### Request the page and check it's status"
   ]
  },
  {
   "cell_type": "code",
   "execution_count": 72,
   "metadata": {
    "collapsed": false
   },
   "outputs": [
    {
     "data": {
      "text/plain": [
       "200"
      ]
     },
     "execution_count": 72,
     "metadata": {},
     "output_type": "execute_result"
    }
   ],
   "source": [
    "page = requests.get(\"http://dataquestio.github.io/web-scraping-pages/simple.html\")\n",
    "page.status_code"
   ]
  },
  {
   "cell_type": "markdown",
   "metadata": {},
   "source": [
    "#### Use the BeautifulSoup library to parse this page"
   ]
  },
  {
   "cell_type": "code",
   "execution_count": 73,
   "metadata": {
    "collapsed": false
   },
   "outputs": [],
   "source": [
    "soup = BeautifulSoup(page.content, \"html.parser\")"
   ]
  },
  {
   "cell_type": "code",
   "execution_count": 74,
   "metadata": {
    "collapsed": false
   },
   "outputs": [
    {
     "name": "stdout",
     "output_type": "stream",
     "text": [
      "<class 'bs4.BeautifulSoup'>\n"
     ]
    }
   ],
   "source": [
    "print(type(soup))"
   ]
  },
  {
   "cell_type": "markdown",
   "metadata": {},
   "source": [
    "#### Pretty print soup"
   ]
  },
  {
   "cell_type": "code",
   "execution_count": 75,
   "metadata": {
    "collapsed": false
   },
   "outputs": [
    {
     "name": "stdout",
     "output_type": "stream",
     "text": [
      "<!DOCTYPE html>\n",
      "<html>\n",
      " <head>\n",
      "  <title>\n",
      "   A simple example page\n",
      "  </title>\n",
      " </head>\n",
      " <body>\n",
      "  <p>\n",
      "   Here is some simple content for this page.\n",
      "  </p>\n",
      " </body>\n",
      "</html>\n"
     ]
    }
   ],
   "source": [
    "print(soup.prettify())"
   ]
  },
  {
   "cell_type": "markdown",
   "metadata": {},
   "source": [
    "#### Children (child elements) of the BeautifulSoup Object"
   ]
  },
  {
   "cell_type": "code",
   "execution_count": 76,
   "metadata": {
    "collapsed": false
   },
   "outputs": [
    {
     "data": {
      "text/plain": [
       "['html', '\\n', <html>\n",
       " <head>\n",
       " <title>A simple example page</title>\n",
       " </head>\n",
       " <body>\n",
       " <p>Here is some simple content for this page.</p>\n",
       " </body>\n",
       " </html>]"
      ]
     },
     "execution_count": 76,
     "metadata": {},
     "output_type": "execute_result"
    }
   ],
   "source": [
    "list(soup.children)"
   ]
  },
  {
   "cell_type": "code",
   "execution_count": 77,
   "metadata": {
    "collapsed": false
   },
   "outputs": [
    {
     "name": "stdout",
     "output_type": "stream",
     "text": [
      "3\n"
     ]
    }
   ],
   "source": [
    "soup_children = list(soup.children)\n",
    "print(len(soup_children))"
   ]
  },
  {
   "cell_type": "code",
   "execution_count": 78,
   "metadata": {
    "collapsed": false
   },
   "outputs": [
    {
     "name": "stdout",
     "output_type": "stream",
     "text": [
      "<class 'bs4.element.Doctype'> \n",
      "\n",
      "<class 'bs4.element.NavigableString'> \n",
      "\n",
      "<class 'bs4.element.Tag'> \n",
      "\n"
     ]
    }
   ],
   "source": [
    "for child in soup_children:\n",
    "    print(type(child), \"\\n\")"
   ]
  },
  {
   "cell_type": "markdown",
   "metadata": {},
   "source": [
    "#### The last element of the soup.children contain tags that might be of interest"
   ]
  },
  {
   "cell_type": "code",
   "execution_count": 79,
   "metadata": {
    "collapsed": false
   },
   "outputs": [
    {
     "name": "stdout",
     "output_type": "stream",
     "text": [
      "<html>\n",
      " <head>\n",
      "  <title>\n",
      "   A simple example page\n",
      "  </title>\n",
      " </head>\n",
      " <body>\n",
      "  <p>\n",
      "   Here is some simple content for this page.\n",
      "  </p>\n",
      " </body>\n",
      "</html>\n"
     ]
    }
   ],
   "source": [
    "*_, html_tags = soup_children\n",
    "print(html_tags.prettify())"
   ]
  },
  {
   "cell_type": "code",
   "execution_count": 80,
   "metadata": {
    "collapsed": false
   },
   "outputs": [
    {
     "name": "stdout",
     "output_type": "stream",
     "text": [
      "<class 'bs4.element.Tag'>\n"
     ]
    }
   ],
   "source": [
    "print(type(html_tags))"
   ]
  },
  {
   "cell_type": "markdown",
   "metadata": {},
   "source": [
    "#### Now look at the the children of the html_tags"
   ]
  },
  {
   "cell_type": "code",
   "execution_count": 81,
   "metadata": {
    "collapsed": false
   },
   "outputs": [
    {
     "data": {
      "text/plain": [
       "['\\n', <head>\n",
       " <title>A simple example page</title>\n",
       " </head>, '\\n', <body>\n",
       " <p>Here is some simple content for this page.</p>\n",
       " </body>, '\\n']"
      ]
     },
     "execution_count": 81,
     "metadata": {},
     "output_type": "execute_result"
    }
   ],
   "source": [
    "list(html_tags.children)"
   ]
  },
  {
   "cell_type": "markdown",
   "metadata": {},
   "source": [
    "#### Do the children have children?"
   ]
  },
  {
   "cell_type": "code",
   "execution_count": 82,
   "metadata": {
    "collapsed": false
   },
   "outputs": [
    {
     "name": "stdout",
     "output_type": "stream",
     "text": [
      "Child(ren) of <head>\n",
      "<title>A simple example page</title>\n",
      "</head> : ['\\n', <title>A simple example page</title>, '\\n'] \n",
      "\n",
      "Child(ren) of <body>\n",
      "<p>Here is some simple content for this page.</p>\n",
      "</body> : ['\\n', <p>Here is some simple content for this page.</p>, '\\n'] \n",
      "\n"
     ]
    }
   ],
   "source": [
    "for i in range(0, len(list(html_tags.children))):\n",
    "    if isinstance(list(html_tags.children)[i], bs4.element.Tag):\n",
    "        this_child = list(html_tags.children)[i]\n",
    "        print(\"Child(ren) of\", this_child, \":\", list(this_child.children), \"\\n\")"
   ]
  },
  {
   "cell_type": "markdown",
   "metadata": {},
   "source": [
    "**Getting the tags, the nested tags and their children is an interative process. Prior knowledge about the html page content (by inspection of the page content) allows us to efficinently extract particular information about the page.**"
   ]
  },
  {
   "cell_type": "markdown",
   "metadata": {},
   "source": [
    "* Let's extarct the text content of the tag body."
   ]
  },
  {
   "cell_type": "code",
   "execution_count": 83,
   "metadata": {
    "collapsed": false
   },
   "outputs": [
    {
     "data": {
      "text/plain": [
       "<body>\n",
       "<p>Here is some simple content for this page.</p>\n",
       "</body>"
      ]
     },
     "execution_count": 83,
     "metadata": {},
     "output_type": "execute_result"
    }
   ],
   "source": [
    "body = list(html_tags)[3]\n",
    "body"
   ]
  },
  {
   "cell_type": "markdown",
   "metadata": {},
   "source": [
    "* Now, we can get the p tag by finding the children of the body tag:"
   ]
  },
  {
   "cell_type": "code",
   "execution_count": 84,
   "metadata": {
    "collapsed": false
   },
   "outputs": [
    {
     "data": {
      "text/plain": [
       "['\\n', <p>Here is some simple content for this page.</p>, '\\n']"
      ]
     },
     "execution_count": 84,
     "metadata": {},
     "output_type": "execute_result"
    }
   ],
   "source": [
    "list(body.children)"
   ]
  },
  {
   "cell_type": "markdown",
   "metadata": {},
   "source": [
    "* We can now isolate the p tag:"
   ]
  },
  {
   "cell_type": "code",
   "execution_count": 85,
   "metadata": {
    "collapsed": false
   },
   "outputs": [
    {
     "data": {
      "text/plain": [
       "<p>Here is some simple content for this page.</p>"
      ]
     },
     "execution_count": 85,
     "metadata": {},
     "output_type": "execute_result"
    }
   ],
   "source": [
    "p = list(body.children)[1]\n",
    "p"
   ]
  },
  {
   "cell_type": "markdown",
   "metadata": {},
   "source": [
    "*Once we’ve isolated the tag, we can use the get_text method to extract all of the text inside the tag:"
   ]
  },
  {
   "cell_type": "code",
   "execution_count": 86,
   "metadata": {
    "collapsed": false
   },
   "outputs": [
    {
     "data": {
      "text/plain": [
       "'Here is some simple content for this page.'"
      ]
     },
     "execution_count": 86,
     "metadata": {},
     "output_type": "execute_result"
    }
   ],
   "source": [
    "p.get_text()"
   ]
  },
  {
   "cell_type": "markdown",
   "metadata": {},
   "source": [
    "### Finding all instances of a tag at once"
   ]
  },
  {
   "cell_type": "code",
   "execution_count": 87,
   "metadata": {
    "collapsed": false
   },
   "outputs": [
    {
     "data": {
      "text/plain": [
       "[<p>Here is some simple content for this page.</p>]"
      ]
     },
     "execution_count": 87,
     "metadata": {},
     "output_type": "execute_result"
    }
   ],
   "source": [
    "soup = BeautifulSoup(page.content, 'html.parser')\n",
    "soup.find_all('p')"
   ]
  },
  {
   "cell_type": "markdown",
   "metadata": {
    "collapsed": true
   },
   "source": [
    "Note that find_all returns a list, so we’ll have to loop through, or use list indexing, it to extract text."
   ]
  },
  {
   "cell_type": "code",
   "execution_count": 88,
   "metadata": {
    "collapsed": false
   },
   "outputs": [
    {
     "data": {
      "text/plain": [
       "'Here is some simple content for this page.'"
      ]
     },
     "execution_count": 88,
     "metadata": {},
     "output_type": "execute_result"
    }
   ],
   "source": [
    "soup.find_all('p')[0].get_text()"
   ]
  },
  {
   "cell_type": "markdown",
   "metadata": {},
   "source": [
    "### Searching for tags by class and id"
   ]
  },
  {
   "cell_type": "markdown",
   "metadata": {},
   "source": [
    "Classes and ids are used by CSS to determine which HTML elements to apply certain styles to. "
   ]
  },
  {
   "cell_type": "code",
   "execution_count": 89,
   "metadata": {
    "collapsed": true
   },
   "outputs": [],
   "source": [
    "import bs4\n",
    "from bs4 import BeautifulSoup\n",
    "import requests"
   ]
  },
  {
   "cell_type": "code",
   "execution_count": 90,
   "metadata": {
    "collapsed": false
   },
   "outputs": [
    {
     "name": "stdout",
     "output_type": "stream",
     "text": [
      "<html>\n",
      " <head>\n",
      "  <title>\n",
      "   A simple example page\n",
      "  </title>\n",
      " </head>\n",
      " <body>\n",
      "  <div>\n",
      "   <p class=\"inner-text first-item\" id=\"first\">\n",
      "    First paragraph.\n",
      "   </p>\n",
      "   <p class=\"inner-text\">\n",
      "    Second paragraph.\n",
      "   </p>\n",
      "  </div>\n",
      "  <p class=\"outer-text first-item\" id=\"second\">\n",
      "   <b>\n",
      "    First outer paragraph.\n",
      "   </b>\n",
      "  </p>\n",
      "  <p class=\"outer-text\">\n",
      "   <b>\n",
      "    Second outer paragraph.\n",
      "   </b>\n",
      "  </p>\n",
      " </body>\n",
      "</html>\n"
     ]
    }
   ],
   "source": [
    "page = requests.get(\"http://dataquestio.github.io/web-scraping-pages/ids_and_classes.html\")\n",
    "soup = BeautifulSoup(page.content, 'html.parser')\n",
    "print(soup.prettify())"
   ]
  },
  {
   "cell_type": "markdown",
   "metadata": {},
   "source": [
    "* **Search for any p tag that has the class outer-text**"
   ]
  },
  {
   "cell_type": "code",
   "execution_count": 91,
   "metadata": {
    "collapsed": false
   },
   "outputs": [
    {
     "data": {
      "text/plain": [
       "[<p class=\"outer-text first-item\" id=\"second\">\n",
       " <b>\n",
       "                 First outer paragraph.\n",
       "             </b>\n",
       " </p>, <p class=\"outer-text\">\n",
       " <b>\n",
       "                 Second outer paragraph.\n",
       "             </b>\n",
       " </p>]"
      ]
     },
     "execution_count": 91,
     "metadata": {},
     "output_type": "execute_result"
    }
   ],
   "source": [
    "soup.find_all('p', class_='outer-text')"
   ]
  },
  {
   "cell_type": "markdown",
   "metadata": {},
   "source": [
    "* **tag that has the class outer-text**"
   ]
  },
  {
   "cell_type": "code",
   "execution_count": 92,
   "metadata": {
    "collapsed": false
   },
   "outputs": [
    {
     "data": {
      "text/plain": [
       "[<p class=\"outer-text first-item\" id=\"second\">\n",
       " <b>\n",
       "                 First outer paragraph.\n",
       "             </b>\n",
       " </p>, <p class=\"outer-text\">\n",
       " <b>\n",
       "                 Second outer paragraph.\n",
       "             </b>\n",
       " </p>]"
      ]
     },
     "execution_count": 92,
     "metadata": {},
     "output_type": "execute_result"
    }
   ],
   "source": [
    "soup.find_all(class_=\"outer-text\")"
   ]
  },
  {
   "cell_type": "markdown",
   "metadata": {},
   "source": [
    "* **tag with the id `first`**"
   ]
  },
  {
   "cell_type": "code",
   "execution_count": 93,
   "metadata": {
    "collapsed": false
   },
   "outputs": [
    {
     "data": {
      "text/plain": [
       "[<p class=\"inner-text first-item\" id=\"first\">\n",
       "                 First paragraph.\n",
       "             </p>]"
      ]
     },
     "execution_count": 93,
     "metadata": {},
     "output_type": "execute_result"
    }
   ],
   "source": [
    "soup.find_all(id=\"first\")"
   ]
  },
  {
   "cell_type": "markdown",
   "metadata": {},
   "source": [
    "### CSS Selectors"
   ]
  },
  {
   "cell_type": "markdown",
   "metadata": {},
   "source": [
    "* **Search for CSS oobject `div`**"
   ]
  },
  {
   "cell_type": "code",
   "execution_count": 94,
   "metadata": {
    "collapsed": false
   },
   "outputs": [
    {
     "data": {
      "text/plain": [
       "[<div>\n",
       " <p class=\"inner-text first-item\" id=\"first\">\n",
       "                 First paragraph.\n",
       "             </p>\n",
       " <p class=\"inner-text\">\n",
       "                 Second paragraph.\n",
       "             </p>\n",
       " </div>]"
      ]
     },
     "execution_count": 94,
     "metadata": {},
     "output_type": "execute_result"
    }
   ],
   "source": [
    "soup.select(\"div\")"
   ]
  },
  {
   "cell_type": "code",
   "execution_count": 95,
   "metadata": {
    "collapsed": false
   },
   "outputs": [
    {
     "data": {
      "text/plain": [
       "[<p class=\"inner-text first-item\" id=\"first\">\n",
       "                 First paragraph.\n",
       "             </p>, <p class=\"inner-text\">\n",
       "                 Second paragraph.\n",
       "             </p>]"
      ]
     },
     "execution_count": 95,
     "metadata": {},
     "output_type": "execute_result"
    }
   ],
   "source": [
    "soup.select('div p')"
   ]
  },
  {
   "cell_type": "code",
   "execution_count": null,
   "metadata": {
    "collapsed": true
   },
   "outputs": [],
   "source": []
  },
  {
   "cell_type": "code",
   "execution_count": null,
   "metadata": {
    "collapsed": true
   },
   "outputs": [],
   "source": []
  },
  {
   "cell_type": "markdown",
   "metadata": {},
   "source": [
    "* Download the web page containing the forecast using get request.\n",
    "* Create a BeautifulSoup class to parse the page.\n",
    "* Find the div with id seven-day-forecast, and assign to seven_day\n",
    "* Inside seven_day, find each individual forecast item.\n",
    "* Extract and print the first forecast item."
   ]
  },
  {
   "cell_type": "code",
   "execution_count": 9,
   "metadata": {
    "collapsed": true
   },
   "outputs": [],
   "source": [
    "page = requests.get(\"http://forecast.weather.gov/MapClick.php?lat=37.7772&lon=-122.4168#.WNXNIxIrJE4\")"
   ]
  },
  {
   "cell_type": "code",
   "execution_count": 10,
   "metadata": {
    "collapsed": true
   },
   "outputs": [],
   "source": [
    "soup = BeautifulSoup(page.content, 'html.parser')"
   ]
  },
  {
   "cell_type": "code",
   "execution_count": 11,
   "metadata": {
    "collapsed": true
   },
   "outputs": [],
   "source": [
    "seven_day = soup.find(id=\"seven-day-forecast\")"
   ]
  },
  {
   "cell_type": "code",
   "execution_count": 22,
   "metadata": {
    "collapsed": false
   },
   "outputs": [
    {
     "name": "stdout",
     "output_type": "stream",
     "text": [
      "<class 'bs4.element.Tag'>\n"
     ]
    }
   ],
   "source": [
    "print(type(seven_day))"
   ]
  },
  {
   "cell_type": "code",
   "execution_count": 16,
   "metadata": {
    "collapsed": false
   },
   "outputs": [
    {
     "name": "stdout",
     "output_type": "stream",
     "text": [
      "<div class=\"panel panel-default\" id=\"seven-day-forecast\">\n",
      " <div class=\"panel-heading\">\n",
      "  <b>\n",
      "   Extended Forecast for\n",
      "  </b>\n",
      "  <h2 class=\"panel-title\">\n",
      "   San Francisco CA\n",
      "  </h2>\n",
      " </div>\n",
      " <div class=\"panel-body\" id=\"seven-day-forecast-body\">\n",
      "  <div id=\"seven-day-forecast-container\">\n",
      "   <ul class=\"list-unstyled\" id=\"seven-day-forecast-list\">\n",
      "    <li class=\"forecast-tombstone\">\n",
      "     <div class=\"tombstone-container\">\n",
      "      <p class=\"period-name\">\n",
      "       Tonight\n",
      "       <br>\n",
      "        <br/>\n",
      "       </br>\n",
      "      </p>\n",
      "      <p>\n",
      "       <img alt=\"Tonight: A 40 percent chance of showers, mainly before 11pm.  Cloudy, then gradually becoming partly cloudy, with a low around 50. West wind 5 to 9 mph.  New precipitation amounts between a tenth and quarter of an inch possible. \" class=\"forecast-icon\" src=\"newimages/medium/nshra40.png\" title=\"Tonight: A 40 percent chance of showers, mainly before 11pm.  Cloudy, then gradually becoming partly cloudy, with a low around 50. West wind 5 to 9 mph.  New precipitation amounts between a tenth and quarter of an inch possible. \"/>\n",
      "      </p>\n",
      "      <p class=\"short-desc\">\n",
      "       Chance\n",
      "       <br>\n",
      "        Showers\n",
      "       </br>\n",
      "      </p>\n",
      "      <p class=\"temp temp-low\">\n",
      "       Low: 50 °F\n",
      "      </p>\n",
      "     </div>\n",
      "    </li>\n",
      "    <li class=\"forecast-tombstone\">\n",
      "     <div class=\"tombstone-container\">\n",
      "      <p class=\"period-name\">\n",
      "       Saturday\n",
      "       <br>\n",
      "        <br/>\n",
      "       </br>\n",
      "      </p>\n",
      "      <p>\n",
      "       <img alt=\"Saturday: Mostly sunny, with a high near 62. Light north northwest wind becoming west 9 to 14 mph in the morning. \" class=\"forecast-icon\" src=\"newimages/medium/sct.png\" title=\"Saturday: Mostly sunny, with a high near 62. Light north northwest wind becoming west 9 to 14 mph in the morning. \"/>\n",
      "      </p>\n",
      "      <p class=\"short-desc\">\n",
      "       Mostly Sunny\n",
      "      </p>\n",
      "      <p class=\"temp temp-high\">\n",
      "       High: 62 °F\n",
      "      </p>\n",
      "     </div>\n",
      "    </li>\n",
      "    <li class=\"forecast-tombstone\">\n",
      "     <div class=\"tombstone-container\">\n",
      "      <p class=\"period-name\">\n",
      "       Saturday\n",
      "       <br>\n",
      "        Night\n",
      "       </br>\n",
      "      </p>\n",
      "      <p>\n",
      "       <img alt=\"Saturday Night: Mostly cloudy, with a low around 50. West wind 8 to 16 mph, with gusts as high as 21 mph. \" class=\"forecast-icon\" src=\"newimages/medium/nbkn.png\" title=\"Saturday Night: Mostly cloudy, with a low around 50. West wind 8 to 16 mph, with gusts as high as 21 mph. \"/>\n",
      "      </p>\n",
      "      <p class=\"short-desc\">\n",
      "       Mostly Cloudy\n",
      "      </p>\n",
      "      <p class=\"temp temp-low\">\n",
      "       Low: 50 °F\n",
      "      </p>\n",
      "     </div>\n",
      "    </li>\n",
      "    <li class=\"forecast-tombstone\">\n",
      "     <div class=\"tombstone-container\">\n",
      "      <p class=\"period-name\">\n",
      "       Sunday\n",
      "       <br>\n",
      "        <br/>\n",
      "       </br>\n",
      "      </p>\n",
      "      <p>\n",
      "       <img alt=\"Sunday: A 50 percent chance of showers.  Mostly cloudy, with a high near 60. South wind 5 to 10 mph.  New precipitation amounts of less than a tenth of an inch possible. \" class=\"forecast-icon\" src=\"newimages/medium/shra50.png\" title=\"Sunday: A 50 percent chance of showers.  Mostly cloudy, with a high near 60. South wind 5 to 10 mph.  New precipitation amounts of less than a tenth of an inch possible. \"/>\n",
      "      </p>\n",
      "      <p class=\"short-desc\">\n",
      "       Chance\n",
      "       <br>\n",
      "        Showers\n",
      "       </br>\n",
      "      </p>\n",
      "      <p class=\"temp temp-high\">\n",
      "       High: 60 °F\n",
      "      </p>\n",
      "     </div>\n",
      "    </li>\n",
      "    <li class=\"forecast-tombstone\">\n",
      "     <div class=\"tombstone-container\">\n",
      "      <p class=\"period-name\">\n",
      "       Sunday\n",
      "       <br>\n",
      "        Night\n",
      "       </br>\n",
      "      </p>\n",
      "      <p>\n",
      "       <img alt=\"Sunday Night: Showers likely.  Mostly cloudy, with a low around 51. South southwest wind 9 to 14 mph becoming west northwest in the evening.  Chance of precipitation is 70%. New precipitation amounts of less than a tenth of an inch possible. \" class=\"forecast-icon\" src=\"newimages/medium/nshra70.png\" title=\"Sunday Night: Showers likely.  Mostly cloudy, with a low around 51. South southwest wind 9 to 14 mph becoming west northwest in the evening.  Chance of precipitation is 70%. New precipitation amounts of less than a tenth of an inch possible. \"/>\n",
      "      </p>\n",
      "      <p class=\"short-desc\">\n",
      "       Showers\n",
      "       <br>\n",
      "        Likely\n",
      "       </br>\n",
      "      </p>\n",
      "      <p class=\"temp temp-low\">\n",
      "       Low: 51 °F\n",
      "      </p>\n",
      "     </div>\n",
      "    </li>\n",
      "    <li class=\"forecast-tombstone\">\n",
      "     <div class=\"tombstone-container\">\n",
      "      <p class=\"period-name\">\n",
      "       Monday\n",
      "       <br>\n",
      "        <br/>\n",
      "       </br>\n",
      "      </p>\n",
      "      <p>\n",
      "       <img alt=\"Monday: A 20 percent chance of showers before 11am.  Partly sunny, with a high near 63.\" class=\"forecast-icon\" src=\"DualImage.php?i=shra&amp;j=sct&amp;ip=20\" title=\"Monday: A 20 percent chance of showers before 11am.  Partly sunny, with a high near 63.\"/>\n",
      "      </p>\n",
      "      <p class=\"short-desc\">\n",
      "       Slight Chance\n",
      "       <br>\n",
      "        Showers then\n",
      "        <br>\n",
      "         Mostly Sunny\n",
      "        </br>\n",
      "       </br>\n",
      "      </p>\n",
      "      <p class=\"temp temp-high\">\n",
      "       High: 63 °F\n",
      "      </p>\n",
      "     </div>\n",
      "    </li>\n",
      "    <li class=\"forecast-tombstone\">\n",
      "     <div class=\"tombstone-container\">\n",
      "      <p class=\"period-name\">\n",
      "       Monday\n",
      "       <br>\n",
      "        Night\n",
      "       </br>\n",
      "      </p>\n",
      "      <p>\n",
      "       <img alt=\"Monday Night: Partly cloudy, with a low around 49.\" class=\"forecast-icon\" src=\"newimages/medium/nsct.png\" title=\"Monday Night: Partly cloudy, with a low around 49.\"/>\n",
      "      </p>\n",
      "      <p class=\"short-desc\">\n",
      "       Partly Cloudy\n",
      "      </p>\n",
      "      <p class=\"temp temp-low\">\n",
      "       Low: 49 °F\n",
      "      </p>\n",
      "     </div>\n",
      "    </li>\n",
      "    <li class=\"forecast-tombstone\">\n",
      "     <div class=\"tombstone-container\">\n",
      "      <p class=\"period-name\">\n",
      "       Tuesday\n",
      "       <br>\n",
      "        <br/>\n",
      "       </br>\n",
      "      </p>\n",
      "      <p>\n",
      "       <img alt=\"Tuesday: Mostly sunny, with a high near 67.\" class=\"forecast-icon\" src=\"newimages/medium/sct.png\" title=\"Tuesday: Mostly sunny, with a high near 67.\"/>\n",
      "      </p>\n",
      "      <p class=\"short-desc\">\n",
      "       Mostly Sunny\n",
      "      </p>\n",
      "      <p class=\"temp temp-high\">\n",
      "       High: 67 °F\n",
      "      </p>\n",
      "     </div>\n",
      "    </li>\n",
      "    <li class=\"forecast-tombstone\">\n",
      "     <div class=\"tombstone-container\">\n",
      "      <p class=\"period-name\">\n",
      "       Tuesday\n",
      "       <br>\n",
      "        Night\n",
      "       </br>\n",
      "      </p>\n",
      "      <p>\n",
      "       <img alt=\"Tuesday Night: Partly cloudy, with a low around 52.\" class=\"forecast-icon\" src=\"newimages/medium/nsct.png\" title=\"Tuesday Night: Partly cloudy, with a low around 52.\"/>\n",
      "      </p>\n",
      "      <p class=\"short-desc\">\n",
      "       Partly Cloudy\n",
      "      </p>\n",
      "      <p class=\"temp temp-low\">\n",
      "       Low: 52 °F\n",
      "      </p>\n",
      "     </div>\n",
      "    </li>\n",
      "   </ul>\n",
      "  </div>\n",
      "  <script type=\"text/javascript\">\n",
      "   // equalize forecast heights\n",
      "$(function () {\n",
      "\tvar maxh = 0;\n",
      "\t$(\".forecast-tombstone .short-desc\").each(function () {\n",
      "\t\tvar h = $(this).height();\n",
      "\t\tif (h > maxh) { maxh = h; }\n",
      "\t});\n",
      "\t$(\".forecast-tombstone .short-desc\").height(maxh);\n",
      "});\n",
      "  </script>\n",
      " </div>\n",
      "</div>\n",
      "\n"
     ]
    }
   ],
   "source": [
    "print(seven_day.prettify())"
   ]
  },
  {
   "cell_type": "code",
   "execution_count": 38,
   "metadata": {
    "collapsed": true
   },
   "outputs": [],
   "source": [
    "forecast_items = seven_day.find_all(class_=\"tombstone-container\")"
   ]
  },
  {
   "cell_type": "code",
   "execution_count": 39,
   "metadata": {
    "collapsed": false
   },
   "outputs": [
    {
     "name": "stdout",
     "output_type": "stream",
     "text": [
      "<class 'bs4.element.ResultSet'>\n"
     ]
    }
   ],
   "source": [
    "print(type(forecast_items))"
   ]
  },
  {
   "cell_type": "code",
   "execution_count": 24,
   "metadata": {
    "collapsed": false
   },
   "outputs": [
    {
     "name": "stdout",
     "output_type": "stream",
     "text": [
      "9\n"
     ]
    }
   ],
   "source": [
    "print(len(forecast_items))"
   ]
  },
  {
   "cell_type": "code",
   "execution_count": 41,
   "metadata": {
    "collapsed": false
   },
   "outputs": [
    {
     "name": "stdout",
     "output_type": "stream",
     "text": [
      "<class 'bs4.element.Tag'>\n"
     ]
    }
   ],
   "source": [
    "print(type(forecast_items[0]))"
   ]
  },
  {
   "cell_type": "code",
   "execution_count": 43,
   "metadata": {
    "collapsed": false
   },
   "outputs": [
    {
     "name": "stdout",
     "output_type": "stream",
     "text": [
      "<div class=\"tombstone-container\">\n",
      " <p class=\"period-name\">\n",
      "  Tonight\n",
      "  <br>\n",
      "   <br/>\n",
      "  </br>\n",
      " </p>\n",
      " <p>\n",
      "  <img alt=\"Tonight: A 40 percent chance of showers, mainly before 11pm.  Cloudy, then gradually becoming partly cloudy, with a low around 50. West wind 5 to 9 mph.  New precipitation amounts between a tenth and quarter of an inch possible. \" class=\"forecast-icon\" src=\"newimages/medium/nshra40.png\" title=\"Tonight: A 40 percent chance of showers, mainly before 11pm.  Cloudy, then gradually becoming partly cloudy, with a low around 50. West wind 5 to 9 mph.  New precipitation amounts between a tenth and quarter of an inch possible. \"/>\n",
      " </p>\n",
      " <p class=\"short-desc\">\n",
      "  Chance\n",
      "  <br>\n",
      "   Showers\n",
      "  </br>\n",
      " </p>\n",
      " <p class=\"temp temp-low\">\n",
      "  Low: 50 °F\n",
      " </p>\n",
      "</div>\n"
     ]
    }
   ],
   "source": [
    "print(forecast_items[0].prettify())"
   ]
  },
  {
   "cell_type": "code",
   "execution_count": 26,
   "metadata": {
    "collapsed": false
   },
   "outputs": [
    {
     "data": {
      "text/plain": [
       "['Tonight',\n",
       " 'Saturday',\n",
       " 'SaturdayNight',\n",
       " 'Sunday',\n",
       " 'SundayNight',\n",
       " 'Monday',\n",
       " 'MondayNight',\n",
       " 'Tuesday',\n",
       " 'TuesdayNight']"
      ]
     },
     "execution_count": 26,
     "metadata": {},
     "output_type": "execute_result"
    }
   ],
   "source": [
    "period_tags = seven_day.select(\".tombstone-container .period-name\")\n",
    "periods = [pt.get_text() for pt in period_tags]\n",
    "periods"
   ]
  },
  {
   "cell_type": "code",
   "execution_count": 27,
   "metadata": {
    "collapsed": false
   },
   "outputs": [
    {
     "ename": "AttributeError",
     "evalue": "'str' object has no attribute 'prettify'",
     "output_type": "error",
     "traceback": [
      "\u001b[0;31m---------------------------------------------------------------------------\u001b[0m",
      "\u001b[0;31mAttributeError\u001b[0m                            Traceback (most recent call last)",
      "\u001b[0;32m<ipython-input-27-34dde46011e4>\u001b[0m in \u001b[0;36m<module>\u001b[0;34m()\u001b[0m\n\u001b[1;32m      1\u001b[0m \u001b[0;32mfor\u001b[0m \u001b[0mperiod\u001b[0m \u001b[0;32min\u001b[0m \u001b[0mperiods\u001b[0m\u001b[0;34m:\u001b[0m\u001b[0;34m\u001b[0m\u001b[0m\n\u001b[0;32m----> 2\u001b[0;31m     \u001b[0mprint\u001b[0m\u001b[0;34m(\u001b[0m\u001b[0mperiod\u001b[0m\u001b[0;34m,\u001b[0m \u001b[0;34m\"\\n\"\u001b[0m\u001b[0;34m,\u001b[0m \u001b[0mperiod\u001b[0m\u001b[0;34m.\u001b[0m\u001b[0mprettify\u001b[0m\u001b[0;34m(\u001b[0m\u001b[0;34m)\u001b[0m\u001b[0;34m,\u001b[0m \u001b[0;34m\"\\n\\n\"\u001b[0m\u001b[0;34m)\u001b[0m\u001b[0;34m\u001b[0m\u001b[0m\n\u001b[0m",
      "\u001b[0;31mAttributeError\u001b[0m: 'str' object has no attribute 'prettify'"
     ]
    }
   ],
   "source": [
    "for period in periods:\n",
    "    print(period, \"\\n\", period.prettify(), \"\\n\\n\")"
   ]
  },
  {
   "cell_type": "code",
   "execution_count": null,
   "metadata": {
    "collapsed": true
   },
   "outputs": [],
   "source": []
  }
 ],
 "metadata": {
  "kernelspec": {
   "display_name": "Python 3",
   "language": "python",
   "name": "python3"
  },
  "language_info": {
   "codemirror_mode": {
    "name": "ipython",
    "version": 3
   },
   "file_extension": ".py",
   "mimetype": "text/x-python",
   "name": "python",
   "nbconvert_exporter": "python",
   "pygments_lexer": "ipython3",
   "version": "3.6.0"
  }
 },
 "nbformat": 4,
 "nbformat_minor": 2
}
