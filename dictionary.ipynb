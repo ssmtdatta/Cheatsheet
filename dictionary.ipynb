{
 "cells": [
  {
   "cell_type": "code",
   "execution_count": 41,
   "metadata": {
    "collapsed": false
   },
   "outputs": [
    {
     "name": "stdout",
     "output_type": "stream",
     "text": [
      "{'y': 222, 'z': 333, 'x': 111}\n",
      "y\n",
      "z\n",
      "x\n"
     ]
    }
   ],
   "source": [
    "# ordinary dictionary (does not preserve order)\n",
    "d = {}\n",
    "d['x'], d['y'], d['z'] = 111, 222, 333\n",
    "print(d)\n",
    "for key in d.keys():\n",
    "    print(key)"
   ]
  },
  {
   "cell_type": "code",
   "execution_count": 40,
   "metadata": {
    "collapsed": false
   },
   "outputs": [
    {
     "name": "stdout",
     "output_type": "stream",
     "text": [
      "OrderedDict([('x', 111), ('y', 222), ('z', 333)])\n",
      "222\n",
      "x\n",
      "y\n",
      "z\n"
     ]
    }
   ],
   "source": [
    "# oredered dictionary\n",
    "from collections import OrderedDict\n",
    "d = OrderedDict()\n",
    "d['x'], d['y'], d['z'] = 111, 222, 333\n",
    "print(d)\n",
    "print(d['y'])\n",
    "for key in d.keys():\n",
    "    print(key)"
   ]
  },
  {
   "cell_type": "code",
   "execution_count": 51,
   "metadata": {
    "collapsed": false
   },
   "outputs": [
    {
     "name": "stdout",
     "output_type": "stream",
     "text": [
      "defaultdict(<class 'list'>, {'a': [1, 1], 'b': [4]})\n",
      "defaultdict(<class 'set'>, {'a': {1}, 'b': {4}})\n"
     ]
    }
   ],
   "source": [
    "# dictionary values specific formats such as list, set \n",
    "from collections import defaultdict\n",
    "d = defaultdict(list)\n",
    "d['a'].append(1)\n",
    "d['a'].append(1)\n",
    "d['b'].append(4)\n",
    "print(d)\n",
    "\n",
    "d = defaultdict(set) # note set will always drop duplicate values\n",
    "d['a'].add(1)\n",
    "d['a'].add(1)\n",
    "d['b'].add(4)\n",
    "print(d)\n"
   ]
  },
  {
   "cell_type": "code",
   "execution_count": 8,
   "metadata": {
    "collapsed": false
   },
   "outputs": [
    {
     "name": "stdout",
     "output_type": "stream",
     "text": [
      "{'y', 'x'}\n",
      "{('y', 2)}\n"
     ]
    }
   ],
   "source": [
    "# commonalities in two dictionaries\n",
    "\n",
    "d1 = {'x' : 1, 'y' : 2, 'z' : 3}\n",
    "d2 = {'x' : 5, 'y' : 2, 'c' : 33}\n",
    "\n",
    "# find common key(s) \n",
    "print(d1.keys() & d2.keys())  \n",
    "\n",
    "# find common key, value pair(s)\n",
    "print(d1.items() & d2.items())"
   ]
  },
  {
   "cell_type": "code",
   "execution_count": 13,
   "metadata": {
    "collapsed": false
   },
   "outputs": [
    {
     "name": "stdout",
     "output_type": "stream",
     "text": [
      "{'z'}\n",
      "{'w'}\n"
     ]
    }
   ],
   "source": [
    "a = {'x' : 1, 'y' : 2, 'z' : 3}\n",
    "b = {'w' : 10,'x' : 11,'y' : 2}\n",
    "\n",
    "# Find keys in a that are not in b\n",
    "print(a.keys() - b.keys())   # the idea is to subtract keys of b from a \n",
    "\n",
    "# Find keys in b that are not in a\n",
    "print(b.keys() - a.keys())   # the idea is to subtract keys of a from b"
   ]
  },
  {
   "cell_type": "code",
   "execution_count": 19,
   "metadata": {
    "collapsed": false
   },
   "outputs": [
    {
     "name": "stdout",
     "output_type": "stream",
     "text": [
      "set()\n",
      "set()\n",
      "{'y', 'z', 'x'}\n",
      "{('z', 3), ('x', 1)}\n",
      "{('x', 5), ('z', 33)}\n",
      "{('y', 2), ('x', 5), ('z', 33)}\n"
     ]
    }
   ],
   "source": [
    "d1 = {'x' : 1, 'y' : 2, 'z' : 3}\n",
    "d2 = {'x' : 5, 'y' : 2, 'z' : 33}\n",
    "d3 = {'a' : 5, 'b' : 2, 'c' : 33}\n",
    "\n",
    "print(d1.keys()-d2.keys())\n",
    "print(d2.keys()-d1.keys())\n",
    "print(d2.keys()-d3.keys())\n",
    "\n",
    "print(d1.items()-d2.items())\n",
    "print(d2.items()-d1.items())\n",
    "print(d2.items()-d3.items())"
   ]
  },
  {
   "cell_type": "code",
   "execution_count": 20,
   "metadata": {
    "collapsed": false
   },
   "outputs": [
    {
     "name": "stdout",
     "output_type": "stream",
     "text": [
      "{'y': 2, 'z': 3, 'b': 11, 'c': 12}\n"
     ]
    }
   ],
   "source": [
    "# Make a new dictionary with certain keys removed\n",
    "old_dictionary = {'x' : 1, 'y' : 2, 'z' : 3, 'a' : 10,'b' : 11,'c' : 12}\n",
    "new_dictionary = {key:old_dictionary[key] for key in old_dictionary.keys() - {'x', 'a'}}\n",
    "print(new_dictionary)"
   ]
  },
  {
   "cell_type": "code",
   "execution_count": 24,
   "metadata": {
    "collapsed": false
   },
   "outputs": [
    {
     "name": "stdout",
     "output_type": "stream",
     "text": [
      "{'a': 5, 'z': 3, 'b': 2, 'x': 1, 'y': 2, 'c': 33}\n",
      "{'a': 5, 'c': 33, 'b': 2, 'x': 1, 'y': 2}\n"
     ]
    }
   ],
   "source": [
    "# merge two dictionaries\n",
    "x = {'x' : 1, 'y' : 2, 'z' : 3}\n",
    "a = {'a' : 5, 'b' : 2, 'c' : 33}\n",
    "\n",
    "# use update method\n",
    "x.update(a)  # x is lost!\n",
    "print(x)\n",
    "\n",
    "# select and merge\n",
    "x_select = { key:x[key] for key in x.keys() - {'z'} }\n",
    "a_select = { k:a[k] for k in a.keys() - {'b'}}\n",
    "a_select.update(x_select)\n",
    "print(a_select)\n",
    "\n"
   ]
  },
  {
   "cell_type": "code",
   "execution_count": 29,
   "metadata": {
    "collapsed": false
   },
   "outputs": [
    {
     "name": "stdout",
     "output_type": "stream",
     "text": [
      "{'a': 5, 'z': 3, 'b': 2, 'x': 1, 'y': 2, 'c': 33}\n"
     ]
    }
   ],
   "source": [
    "# use dict method to merge and create a third dictionary\n",
    "x = {'x' : 1, 'y' : 2, 'z' : 3}\n",
    "a = {'a' : 5, 'b' : 2, 'c' : 33}\n",
    "xa = dict(x, **a)\n",
    "print(xa)"
   ]
  },
  {
   "cell_type": "code",
   "execution_count": 31,
   "metadata": {
    "collapsed": false
   },
   "outputs": [
    {
     "name": "stdout",
     "output_type": "stream",
     "text": [
      "{'y': 2, 'c': 33, 'b': 2, 'z': 3, 'x': 1}\n"
     ]
    }
   ],
   "source": [
    "# merging dictionaries with common keys but different values???\n",
    "# will pick the starred dictionary value, why???\n",
    "y = {'x' : 1, 'y' : 2, 'z' : 3}\n",
    "z = {'x' : 5, 'b' : 2, 'c' : 33}\n",
    "yz = dict(z, **y)\n",
    "print(yz)"
   ]
  },
  {
   "cell_type": "code",
   "execution_count": 36,
   "metadata": {
    "collapsed": false
   },
   "outputs": [
    {
     "name": "stdout",
     "output_type": "stream",
     "text": [
      "Counter({'c': 7, 'd': 5, 'b': 5, 'a': 1})\n",
      "Counter({'c': 7, 'y': 5, 'x': 3, 'b': 2, 'a': 1})\n",
      "Counter({'c': 7, 'y': 5, 'x': 3, 'b': 2, 'a': 1}) <class 'collections.Counter'>\n",
      "1\n"
     ]
    }
   ],
   "source": [
    "# Adding the values of each key in two dictionaries\n",
    "# Note this also combines keys not common in two dictionaries\n",
    "from collections import Counter\n",
    "\n",
    "A = Counter({'a':1, 'b':2, 'c':3})\n",
    "B = Counter({'b':3, 'c':4, 'd':5})\n",
    "print(A + B)\n",
    "\n",
    "X = Counter({'a':1, 'b':2, 'c':3})\n",
    "Y = Counter({'x':3, 'c':4, 'y':5})\n",
    "print(X + Y)\n",
    "XY = (X+Y)\n",
    "print(XY, type(XY))\n",
    "print(XY['a'])"
   ]
  },
  {
   "cell_type": "code",
   "execution_count": 63,
   "metadata": {
    "collapsed": false
   },
   "outputs": [
    {
     "name": "stdout",
     "output_type": "stream",
     "text": [
      "{'HPQ': 37.2, 'ACME': 45.23, 'AAPL': 612.78, 'IBM': 205.55, 'FB': 10.75}\n",
      "(10.75, 'FB')\n",
      "why is that empty []\n",
      "('AAPL', 612.78)\n",
      "[(10.75, 'FB'), (37.2, 'HPQ'), (45.23, 'ACME'), (205.55, 'IBM'), (612.78, 'AAPL')]\n"
     ]
    }
   ],
   "source": [
    "# sort, find min and max of dictionary keys/values\n",
    "prices = { \\\n",
    "  'ACME': 45.23, \\\n",
    "  'AAPL': 612.78, \\\n",
    "  'IBM': 205.55, \\\n",
    "  'HPQ': 37.20, \\\n",
    "  'FB': 10.75 \\\n",
    "}\n",
    "print(prices)\n",
    "\n",
    "# first create tuples using the zip() method \n",
    "# use tuples for comparisons\n",
    "\n",
    "# values as key\n",
    "prices_tup = zip(prices.values(), prices.keys())\n",
    "print(min(prices_tup))\n",
    "print(\"why is that empty\", sorted(prices_tup))\n",
    "\n",
    "# keys as key\n",
    "prices_tup = zip(prices.keys(), prices.values())\n",
    "print(min(prices_tup))\n",
    "\n",
    "prices_sorted = sorted(zip(prices.values(), prices.keys()))\n",
    "print(prices_sorted)\n"
   ]
  },
  {
   "cell_type": "code",
   "execution_count": null,
   "metadata": {
    "collapsed": true
   },
   "outputs": [],
   "source": [
    "# ponder\n",
    "# ditionary methods: keys(), items(), values()\n",
    "# zip()\n",
    "# module: collections"
   ]
  }
 ],
 "metadata": {
  "anaconda-cloud": {},
  "kernelspec": {
   "display_name": "Python 3",
   "language": "python",
   "name": "python3"
  },
  "language_info": {
   "codemirror_mode": {
    "name": "ipython",
    "version": 3
   },
   "file_extension": ".py",
   "mimetype": "text/x-python",
   "name": "python",
   "nbconvert_exporter": "python",
   "pygments_lexer": "ipython3",
   "version": "3.6.0"
  }
 },
 "nbformat": 4,
 "nbformat_minor": 0
}
