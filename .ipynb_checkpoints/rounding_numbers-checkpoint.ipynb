{
 "cells": [
  {
   "cell_type": "markdown",
   "metadata": {},
   "source": [
    "## Notebook Summary"
   ]
  },
  {
   "cell_type": "markdown",
   "metadata": {},
   "source": [
    "This notebook focuses representaion and conversion of numeric values (e.g. integers, floating points) in different rounded off forms.\n",
    "\n",
    "Click on these links to jump to a particular section.\n",
    "- [1. Numeric Data Types](#1)\n",
    "- [2. Rounding](#2)\n",
    "    - [2.1 Rounding floating numbers to fixed decimal places](#2-1)\n",
    "    - [2.2 Rounding to nearest smaller integer](#2-2)\n",
    "    - [2.3 Rounding to nearest larger integer](#2-3)\n",
    "    - [2.4 Comparison of roundings](#2-4)\n",
    "- [3. Rounding Digits to 0, 10, 100-th etc. Places](#3)"
   ]
  },
  {
   "cell_type": "markdown",
   "metadata": {},
   "source": [
    "<a name='1'></a>\n",
    "### 1. Numeric Data Types"
   ]
  },
  {
   "cell_type": "code",
   "execution_count": 1,
   "metadata": {},
   "outputs": [
    {
     "name": "stdout",
     "output_type": "stream",
     "text": [
      "a = 1 | Data type: <class 'int'>\n",
      "b = 1.0 | Data type: <class 'float'>\n",
      "c = 5.0 | Data type: <class 'float'>\n",
      "d = 2.0 | Data type: <class 'float'>\n",
      "e = 1e-07 | Data type: <class 'float'>\n"
     ]
    }
   ],
   "source": [
    "a, b, c, d, e = 1, 1.0, 10/2,  10/5.0, 1e-7\n",
    "\n",
    "print('a =', a, '| Data type:', type(a))\n",
    "print('b =', b, '| Data type:', type(b))\n",
    "print('c =', c, '| Data type:', type(c))\n",
    "print('d =', d, '| Data type:', type(d))\n",
    "print('e =', e, '| Data type:', type(e))"
   ]
  },
  {
   "cell_type": "markdown",
   "metadata": {},
   "source": [
    "<a name='2'></a>\n",
    "### 2. Rounding"
   ]
  },
  {
   "cell_type": "markdown",
   "metadata": {},
   "source": [
    "<a name='2-1'></a>\n",
    "#### 2.1 Rounding floating numbers to fixed decimal places \n",
    "- rounding with built in round(number, ndigit) function. For fractional value of 0.5 or higher gets rounded to next higher digit.\n",
    "- without ndigit specified, the first decimal value is considered for rounding"
   ]
  },
  {
   "cell_type": "code",
   "execution_count": 4,
   "metadata": {},
   "outputs": [
    {
     "name": "stdout",
     "output_type": "stream",
     "text": [
      "round(1.23, 1) = 1.2\n",
      "round(1.23) = 1\n",
      "\n",
      "\n",
      "round(1.57, 1) = 1.6\n",
      "round(1.57) = 2\n",
      "\n",
      "\n",
      "round(-1.27, 1) = -1.3\n",
      "round(-1.27) = -1\n",
      "\n",
      "\n",
      "round(1.25361, 3) = 1.254\n",
      "round(1.25361) = 1\n",
      "\n",
      "\n",
      "round(1.25, 2) = 1.25\n",
      "round(1.25) = 1\n",
      "\n",
      "\n",
      "round(1.2, 2) = 1.2\n",
      "round(1.2) = 1\n",
      "\n",
      "\n"
     ]
    }
   ],
   "source": [
    "number, ndigit = 1.23, 1\n",
    "print(\"round({}, {}) =\".format(number, ndigit), round(number, ndigit))\n",
    "print(\"round({}) =\".format(number), round(number))\n",
    "print(\"\\n\")\n",
    "\n",
    "number, ndigit = 1.57, 1\n",
    "print(\"round({}, {}) =\".format(number, ndigit), round(number, ndigit))\n",
    "print(\"round({}) =\".format(number), round(number))\n",
    "print(\"\\n\")\n",
    "\n",
    "\n",
    "number, ndigit = -1.27, 1\n",
    "print(\"round({}, {}) =\".format(number, ndigit), round(number, ndigit))\n",
    "print(\"round({}) =\".format(number), round(number))\n",
    "print(\"\\n\")\n",
    "\n",
    "\n",
    "number, ndigit = 1.25361,3\n",
    "print(\"round({}, {}) =\".format(number, ndigit), round(number, ndigit))\n",
    "print(\"round({}) =\".format(number), round(number))\n",
    "print(\"\\n\")\n",
    "\n",
    "\n",
    "number, ndigit = 1.25,2\n",
    "print(\"round({}, {}) =\".format(number, ndigit), round(number, ndigit))\n",
    "print(\"round({}) =\".format(number), round(number))\n",
    "print(\"\\n\")\n",
    "\n",
    "number, ndigit = 1.2, 2\n",
    "print(\"round({}, {}) =\".format(number, ndigit), round(number, ndigit))\n",
    "print(\"round({}) =\".format(number), round(number))\n",
    "print(\"\\n\")\n"
   ]
  },
  {
   "cell_type": "markdown",
   "metadata": {},
   "source": [
    "<a name='2-2'></a>\n",
    "#### 2.2 Rounding to nearest smaller integer\n",
    "- using math.floor"
   ]
  },
  {
   "cell_type": "code",
   "execution_count": 5,
   "metadata": {},
   "outputs": [
    {
     "name": "stdout",
     "output_type": "stream",
     "text": [
      "1.4 rounded with floor():  1\n",
      "1.5 rounded with floor():  1\n",
      "1.6 rounded with floor():  1\n",
      "1.999 rounded with floor():  1\n",
      "-1.4 rounded with floor():  -2\n",
      "-1.5 rounded with floor():  -2\n",
      "-1.6 rounded with floor():  -2\n",
      "-1.999 rounded with floor():  -2\n"
     ]
    }
   ],
   "source": [
    "import math\n",
    "\n",
    "x = 1.4\n",
    "print(x, 'rounded with floor(): ', math.floor(x))\n",
    "\n",
    "x = 1.5\n",
    "print(x, 'rounded with floor(): ', math.floor(x))\n",
    "\n",
    "x = 1.6\n",
    "print(x, 'rounded with floor(): ', math.floor(x))\n",
    "\n",
    "x = 1.999\n",
    "print(x, 'rounded with floor(): ', math.floor(x))\n",
    "\n",
    "x = -1.4\n",
    "print(x, 'rounded with floor(): ', math.floor(x))\n",
    "\n",
    "x = -1.5\n",
    "print(x, 'rounded with floor(): ', math.floor(x))\n",
    "\n",
    "x = -1.6\n",
    "print(x, 'rounded with floor(): ', math.floor(x))\n",
    "\n",
    "x = -1.999\n",
    "print(x, 'rounded with floor(): ', math.floor(x))"
   ]
  },
  {
   "cell_type": "markdown",
   "metadata": {},
   "source": [
    "<a name='2-3'></a>\n",
    "#### 2.3 Rounding to nearest larger integer\n",
    "- using math.ceil"
   ]
  },
  {
   "cell_type": "code",
   "execution_count": 6,
   "metadata": {},
   "outputs": [
    {
     "name": "stdout",
     "output_type": "stream",
     "text": [
      "1.4 rounded with ceil():  2\n",
      "1.5 rounded with ceil():  2\n",
      "1.6 rounded with ceil():  2\n",
      "1.999 rounded with ceil():  2\n",
      "-1.4 rounded with ceil():  -1\n",
      "-1.5 rounded with ceil():  -1\n",
      "-1.6 rounded with ceil():  -1\n",
      "-1.999 rounded with ceil():  -1\n"
     ]
    }
   ],
   "source": [
    "import math\n",
    "\n",
    "x = 1.4\n",
    "print(x, 'rounded with ceil(): ', math.ceil(x))\n",
    "\n",
    "x = 1.5\n",
    "print(x, 'rounded with ceil(): ', math.ceil(x))\n",
    "\n",
    "x = 1.6\n",
    "print(x, 'rounded with ceil(): ', math.ceil(x))\n",
    "\n",
    "x = 1.999\n",
    "print(x, 'rounded with ceil(): ', math.ceil(x))\n",
    "\n",
    "\n",
    "x = -1.4\n",
    "print(x, 'rounded with ceil(): ', math.ceil(x))\n",
    "\n",
    "x = -1.5\n",
    "print(x, 'rounded with ceil(): ', math.ceil(x))\n",
    "\n",
    "x = -1.6\n",
    "print(x, 'rounded with ceil(): ', math.ceil(x))\n",
    "\n",
    "x = -1.999\n",
    "print(x, 'rounded with ceil(): ', math.ceil(x))\n",
    "\n"
   ]
  },
  {
   "cell_type": "markdown",
   "metadata": {},
   "source": [
    "<a name='2-4'></a>\n",
    "#### 2.4 Comparison of roundings\n",
    "- math.floor\n",
    "- int\n",
    "- math.ceil\n",
    "- round"
   ]
  },
  {
   "cell_type": "code",
   "execution_count": 7,
   "metadata": {},
   "outputs": [
    {
     "name": "stdout",
     "output_type": "stream",
     "text": [
      "1.4 rounded with floor():  1\n",
      "1.4 rounded with int():  1\n",
      "1.4 rounded with ceil():  2\n",
      "1.4 rounded with round():  1\n",
      "\n",
      "\n",
      "1.5 rounded with floor():  1\n",
      "1.5 rounded with int():  1\n",
      "1.5 rounded with ceil():  2\n",
      "1.5 rounded with round():  2\n",
      "\n",
      "\n",
      "1.6 rounded with floor():  1\n",
      "1.6 rounded with int():  1\n",
      "1.6 rounded with ceil():  2\n",
      "1.6 rounded with round():  2\n",
      "\n",
      "\n",
      "1.999 rounded with floor():  1\n",
      "1.999 rounded with int():  1\n",
      "1.999 rounded with ceil():  2\n",
      "1.999 rounded with round():  2\n",
      "\n",
      "\n",
      "-1.4 rounded with floor():  -2\n",
      "-1.4 rounded with int():  -1\n",
      "-1.4 rounded with ceil():  -1\n",
      "-1.4 rounded with round():  -1\n",
      "\n",
      "\n",
      "-1.5 rounded with floor():  -2\n",
      "-1.5 rounded with int():  -1\n",
      "-1.5 rounded with ceil():  -1\n",
      "-1.5 rounded with round():  -2\n",
      "\n",
      "\n",
      "-1.6 rounded with floor():  -2\n",
      "-1.6 rounded with int():  -1\n",
      "-1.6 rounded with ceil():  -1\n",
      "-1.6 rounded with round():  -2\n",
      "\n",
      "\n",
      "-1.999 rounded with floor():  -2\n",
      "-1.999 rounded with int():  -1\n",
      "-1.999 rounded with ceil():  -1\n",
      "-1.999 rounded with round():  -2\n",
      "\n",
      "\n"
     ]
    }
   ],
   "source": [
    "import math \n",
    "\n",
    "x = 1.4\n",
    "print(x, 'rounded with floor(): ', math.floor(x))\n",
    "print(x, 'rounded with int(): ', int(x))\n",
    "print(x, 'rounded with ceil(): ', math.ceil(x))\n",
    "print(x, 'rounded with round(): ', round(x))\n",
    "print(\"\\n\")\n",
    "\n",
    "x = 1.5\n",
    "print(x, 'rounded with floor(): ', math.floor(x))\n",
    "print(x, 'rounded with int(): ', int(x))\n",
    "print(x, 'rounded with ceil(): ', math.ceil(x))\n",
    "print(x, 'rounded with round(): ', round(x))\n",
    "print(\"\\n\")\n",
    "\n",
    "x = 1.6\n",
    "print(x, 'rounded with floor(): ', math.floor(x))\n",
    "print(x, 'rounded with int(): ', int(x))\n",
    "print(x, 'rounded with ceil(): ', math.ceil(x))\n",
    "print(x, 'rounded with round(): ', round(x))\n",
    "print(\"\\n\")\n",
    "\n",
    "x = 1.999\n",
    "print(x, 'rounded with floor(): ', math.floor(x))\n",
    "print(x, 'rounded with int(): ', int(x))\n",
    "print(x, 'rounded with ceil(): ', math.ceil(x))\n",
    "print(x, 'rounded with round(): ', round(x))\n",
    "print(\"\\n\")\n",
    "\n",
    "x = -1.4\n",
    "print(x, 'rounded with floor(): ', math.floor(x))\n",
    "print(x, 'rounded with int(): ', int(x))\n",
    "print(x, 'rounded with ceil(): ', math.ceil(x))\n",
    "print(x, 'rounded with round(): ', round(x))\n",
    "print(\"\\n\")\n",
    "\n",
    "x = -1.5\n",
    "print(x, 'rounded with floor(): ', math.floor(x))\n",
    "print(x, 'rounded with int(): ', int(x))\n",
    "print(x, 'rounded with ceil(): ', math.ceil(x))\n",
    "print(x, 'rounded with round(): ', round(x))\n",
    "print(\"\\n\")\n",
    "\n",
    "x = -1.6\n",
    "print(x, 'rounded with floor(): ', math.floor(x))\n",
    "print(x, 'rounded with int(): ', int(x))\n",
    "print(x, 'rounded with ceil(): ', math.ceil(x))\n",
    "print(x, 'rounded with round(): ', round(x))\n",
    "print(\"\\n\")\n",
    "\n",
    "x = -1.999\n",
    "print(x, 'rounded with floor(): ', math.floor(x))\n",
    "print(x, 'rounded with int(): ', int(x))\n",
    "print(x, 'rounded with ceil(): ', math.ceil(x))\n",
    "print(x, 'rounded with round(): ', round(x))\n",
    "print(\"\\n\")"
   ]
  },
  {
   "cell_type": "markdown",
   "metadata": {},
   "source": [
    "<a name='3'></a>\n",
    "### 3. Rounding Digits to 0, 10, 100-th etc. Places"
   ]
  },
  {
   "cell_type": "code",
   "execution_count": 8,
   "metadata": {},
   "outputs": [
    {
     "name": "stdout",
     "output_type": "stream",
     "text": [
      "round(12345672, -1) = 12345670\n",
      "round(12345672, -2) = 12345700\n",
      "round(12345672, -3) = 12346000\n",
      "round(123443.576, -1) = 123440.0\n",
      "round(123443.576, -5) = 100000.0\n"
     ]
    }
   ],
   "source": [
    "# round digits, 0, 10, 100 places\n",
    "\n",
    "x, place = 12345672, -1\n",
    "print(\"round({}, {}) =\".format(x, place), round(x, place))\n",
    "\n",
    "x, place = 12345672, -2\n",
    "print(\"round({}, {}) =\".format(x, place), round(x, place))\n",
    "\n",
    "x, place = 12345672, -3\n",
    "print(\"round({}, {}) =\".format(x, place), round(x, place))\n",
    "\n",
    "x, place = 123443.576, -1\n",
    "print(\"round({}, {}) =\".format(x, place), round(x, place))\n",
    "\n",
    "\n",
    "x, place = 123443.576, -5\n",
    "print(\"round({}, {}) =\".format(x, place), round(x, place))\n",
    "\n"
   ]
  },
  {
   "cell_type": "code",
   "execution_count": null,
   "metadata": {},
   "outputs": [],
   "source": []
  }
 ],
 "metadata": {
  "anaconda-cloud": {},
  "kernelspec": {
   "display_name": "Python 3",
   "language": "python",
   "name": "python3"
  },
  "language_info": {
   "codemirror_mode": {
    "name": "ipython",
    "version": 3
   },
   "file_extension": ".py",
   "mimetype": "text/x-python",
   "name": "python",
   "nbconvert_exporter": "python",
   "pygments_lexer": "ipython3",
   "version": "3.7.6"
  },
  "varInspector": {
   "cols": {
    "lenName": 16,
    "lenType": 16,
    "lenVar": 40
   },
   "kernels_config": {
    "python": {
     "delete_cmd_postfix": "",
     "delete_cmd_prefix": "del ",
     "library": "var_list.py",
     "varRefreshCmd": "print(var_dic_list())"
    },
    "r": {
     "delete_cmd_postfix": ") ",
     "delete_cmd_prefix": "rm(",
     "library": "var_list.r",
     "varRefreshCmd": "cat(var_dic_list()) "
    }
   },
   "types_to_exclude": [
    "module",
    "function",
    "builtin_function_or_method",
    "instance",
    "_Feature"
   ],
   "window_display": false
  }
 },
 "nbformat": 4,
 "nbformat_minor": 1
}
