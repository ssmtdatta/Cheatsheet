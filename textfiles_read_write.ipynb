{
 "cells": [
  {
   "cell_type": "code",
   "execution_count": 111,
   "metadata": {
    "collapsed": true
   },
   "outputs": [],
   "source": [
    "# file types\n",
    "# .txt (simple text files)\n",
    "# .png, .jpg, gif, bmp, tiff\n",
    "# zip, gz, tar\n",
    "# csv\n",
    "# pdf\n",
    "# html\n",
    "### parse json\n",
    "### parse xml"
   ]
  },
  {
   "cell_type": "markdown",
   "metadata": {},
   "source": [
    "### Text Files"
   ]
  },
  {
   "cell_type": "markdown",
   "metadata": {},
   "source": [
    "#### Read a text file"
   ]
  },
  {
   "cell_type": "code",
   "execution_count": 1,
   "metadata": {
    "collapsed": false
   },
   "outputs": [
    {
     "name": "stdout",
     "output_type": "stream",
     "text": [
      "A text file is any file containing only readable characters. A character can be a number like 3 or 6, or a letter of the alphabet like M or p. Taken together, programmers call numbers and letters the set of alphanumeric characters. Characters also include non-alphanumeric symbols like # or $.\n"
     ]
    }
   ],
   "source": [
    "PATH = \"/Users/susmitadatta/Tutorials/Python/Data/\"\n",
    "FILE = \"text.txt\"\n",
    "\n",
    "# open an existing text file for reading\n",
    "file = open(PATH+FILE, \"r\")\n",
    "file_content = file.read() \n",
    "\n",
    "print(file_content)\n",
    "\n",
    "# close the opened file.\n",
    "file.close()"
   ]
  },
  {
   "cell_type": "markdown",
   "metadata": {
    "collapsed": true
   },
   "source": [
    "#### Write a text file"
   ]
  },
  {
   "cell_type": "code",
   "execution_count": 24,
   "metadata": {
    "collapsed": false
   },
   "outputs": [],
   "source": [
    "PATH = \"/Users/susmitadatta/Tutorials/Python/Data/\"\n",
    "FILE = \"text_line.txt\"\n",
    "\n",
    "file = open(PATH+FILE, \"w\")\n",
    "for i in range(6):\n",
    "    file.write( \" Line \" + str(i) )    \n",
    "file.close()"
   ]
  },
  {
   "cell_type": "markdown",
   "metadata": {},
   "source": [
    "#### Let's take a look at the file we wrote"
   ]
  },
  {
   "cell_type": "markdown",
   "metadata": {},
   "source": [
    "#### read file with readline()"
   ]
  },
  {
   "cell_type": "code",
   "execution_count": 25,
   "metadata": {
    "collapsed": false
   },
   "outputs": [
    {
     "name": "stdout",
     "output_type": "stream",
     "text": [
      " Line 0 Line 1 Line 2 Line 3 Line 4 Line 5\n"
     ]
    }
   ],
   "source": [
    "\n",
    "PATH = \"/Users/susmitadatta/Tutorials/Python/Data/\"\n",
    "FILE = \"text_line.txt\"\n",
    "\n",
    "file = open(PATH+FILE, \"r\")\n",
    "\n",
    "# 'readline' reads file content as string\n",
    "content_as_string = file.readline() \n",
    "print(content_as_string)\n",
    "\n",
    "file.close()"
   ]
  },
  {
   "cell_type": "markdown",
   "metadata": {},
   "source": [
    "#### read file with readlines()"
   ]
  },
  {
   "cell_type": "code",
   "execution_count": 26,
   "metadata": {
    "collapsed": false
   },
   "outputs": [
    {
     "name": "stdout",
     "output_type": "stream",
     "text": [
      "[' Line 0 Line 1 Line 2 Line 3 Line 4 Line 5']\n"
     ]
    }
   ],
   "source": [
    "PATH = \"/Users/susmitadatta/Tutorials/Python/Data/\"\n",
    "FILE = \"text_line.txt\"\n",
    "\n",
    "file = open(PATH+FILE, \"r\")\n",
    "\n",
    "# 'readlines' reads file content as list\n",
    "content_as_list = file.readlines() \n",
    "print(content_as_list)\n",
    "\n",
    "file.close()"
   ]
  },
  {
   "cell_type": "markdown",
   "metadata": {},
   "source": [
    "#### write several lines to a text file"
   ]
  },
  {
   "cell_type": "code",
   "execution_count": 27,
   "metadata": {
    "collapsed": true
   },
   "outputs": [],
   "source": [
    "PATH = \"/Users/susmitadatta/Tutorials/Python/Data/\"\n",
    "FILE = \"text_lines.txt\"\n",
    "\n",
    "file = open(PATH+FILE, \"w\")\n",
    "for i in range(6):\n",
    "    file.write( \" This is a line.\\n\" )    \n",
    "file.close()"
   ]
  },
  {
   "cell_type": "markdown",
   "metadata": {},
   "source": [
    "#### read the text file with multiple lines"
   ]
  },
  {
   "cell_type": "markdown",
   "metadata": {},
   "source": [
    "#### readline()"
   ]
  },
  {
   "cell_type": "code",
   "execution_count": 33,
   "metadata": {
    "collapsed": false
   },
   "outputs": [
    {
     "name": "stdout",
     "output_type": "stream",
     "text": [
      " This is a line.\n",
      "\n",
      " This is a line.\n",
      "\n",
      " This is a line.\n",
      "\n"
     ]
    }
   ],
   "source": [
    "PATH = \"/Users/susmitadatta/Tutorials/Python/Data/\"\n",
    "FILE = \"text_lines.txt\"\n",
    "\n",
    "file = open(PATH+FILE, \"r\")\n",
    "\n",
    "# 'readline' reads file content as string\n",
    "content_as_string = file.readline() \n",
    "print(content_as_string)\n",
    "\n",
    "content_as_string = file.readline() \n",
    "print(content_as_string)\n",
    "\n",
    "content_as_string = file.readline() \n",
    "print(content_as_string)\n",
    "\n",
    "file.close()"
   ]
  },
  {
   "cell_type": "markdown",
   "metadata": {},
   "source": [
    "#### readlines()"
   ]
  },
  {
   "cell_type": "code",
   "execution_count": 29,
   "metadata": {
    "collapsed": false
   },
   "outputs": [
    {
     "name": "stdout",
     "output_type": "stream",
     "text": [
      "[' This is a line.\\n', ' This is a line.\\n', ' This is a line.\\n', ' This is a line.\\n', ' This is a line.\\n', ' This is a line.\\n']\n"
     ]
    }
   ],
   "source": [
    "PATH = \"/Users/susmitadatta/Tutorials/Python/Data/\"\n",
    "FILE = \"text_lines.txt\"\n",
    "\n",
    "file = open(PATH+FILE, \"r\")\n",
    "\n",
    "# 'readline' reads file content as string\n",
    "content_as_string = file.readlines() \n",
    "print(content_as_string)\n",
    "\n",
    "file.close()"
   ]
  },
  {
   "cell_type": "markdown",
   "metadata": {},
   "source": [
    "### The 'with' and 'as' Keywords"
   ]
  },
  {
   "cell_type": "code",
   "execution_count": 37,
   "metadata": {
    "collapsed": false
   },
   "outputs": [
    {
     "name": "stdout",
     "output_type": "stream",
     "text": [
      "A bunch of characters makes a string.\n",
      "A bunch of characters makes a string.\n",
      "A bunch of characters makes a string.\n",
      "A bunch of characters makes a string.\n",
      "A bunch of characters makes a string.\n",
      "A bunch of characters makes a string.\n",
      "A bunch of characters makes a string.\n",
      "A bunch of characters makes a string.\n",
      "A bunch of characters makes a string.\n",
      "A bunch of characters makes a string.\n",
      "\n"
     ]
    }
   ],
   "source": [
    "PATH = \"/Users/susmitadatta/Tutorials/Python/Data/\"\n",
    "FILE = \"repeated_string.txt\"\n",
    "\n",
    "# write\n",
    "with open(PATH+FILE, \"w\") as f:\n",
    "    for i in range(10):\n",
    "      f.write(\"A bunch of characters makes a string.\\n\")\n",
    "f.close()\n",
    "\n",
    "# read \n",
    "with open(PATH+FILE, \"r\") as f:\n",
    "    file_content = f.read() \n",
    "print(file_content)\n",
    "f.close()"
   ]
  },
  {
   "cell_type": "markdown",
   "metadata": {},
   "source": [
    "#### Read a file in smaller pieces"
   ]
  },
  {
   "cell_type": "code",
   "execution_count": 38,
   "metadata": {
    "collapsed": false
   },
   "outputs": [
    {
     "name": "stdout",
     "output_type": "stream",
     "text": [
      "Jan\n",
      "uar\n",
      "y\n",
      "F\n",
      "ebr\n",
      "uar\n",
      "y\n",
      "M\n",
      "arc\n",
      "h\n",
      "A\n",
      "pri\n",
      "l\n",
      "M\n",
      "ay\n",
      "\n",
      "Jun\n",
      "e\n",
      "J\n",
      "uly\n",
      "\n",
      "Au\n",
      "gus\n",
      "t\n",
      "S\n",
      "ept\n",
      "emb\n",
      "er\n",
      "\n",
      "Oct\n",
      "obe\n",
      "r\n",
      "N\n",
      "ove\n",
      "mbe\n",
      "r\n",
      "D\n",
      "ece\n",
      "mbe\n",
      "r\n"
     ]
    }
   ],
   "source": [
    "# read c number or characters at a time from a file\n",
    "PATH = \"/Users/susmitadatta/Tutorials/Python/Data/\"\n",
    "FILE = \"months.txt\"\n",
    "\n",
    "f = open(PATH+FILE, \"r\")\n",
    "\n",
    "c = 3\n",
    "read_next = f.read(c)\n",
    "\n",
    "while read_next != \"\":\n",
    "    print(read_next)\n",
    "    read_next = f.read(c)"
   ]
  },
  {
   "cell_type": "code",
   "execution_count": 39,
   "metadata": {
    "collapsed": false
   },
   "outputs": [
    {
     "name": "stdout",
     "output_type": "stream",
     "text": [
      "January\n",
      "\n",
      "February\n",
      "\n",
      "March\n",
      "\n",
      "April\n",
      "\n",
      "May\n",
      "\n",
      "June\n",
      "\n",
      "July\n",
      "\n",
      "August\n",
      "\n",
      "September\n",
      "\n",
      "October\n",
      "\n",
      "November\n",
      "\n",
      "December\n"
     ]
    }
   ],
   "source": [
    "# read file line by line\n",
    "PATH = \"/Users/susmitadatta/Tutorials/Python/Data/\"\n",
    "FILE = \"months.txt\"\n",
    "\n",
    "f = open(PATH+FILE, \"r\")\n",
    "file_content = f.read()\n",
    "f.close()\n",
    "\n",
    "if '\\n' in file_content:\n",
    "  f = open(PATH+FILE, \"r\")\n",
    "  lines = f.readlines()\n",
    "  f.close()\n",
    "\n",
    "for line in lines:\n",
    " print(line)"
   ]
  }
 ],
 "metadata": {
  "anaconda-cloud": {},
  "kernelspec": {
   "display_name": "Python 3",
   "language": "python",
   "name": "python3"
  },
  "language_info": {
   "codemirror_mode": {
    "name": "ipython",
    "version": 3
   },
   "file_extension": ".py",
   "mimetype": "text/x-python",
   "name": "python",
   "nbconvert_exporter": "python",
   "pygments_lexer": "ipython3",
   "version": "3.6.0"
  }
 },
 "nbformat": 4,
 "nbformat_minor": 0
}
