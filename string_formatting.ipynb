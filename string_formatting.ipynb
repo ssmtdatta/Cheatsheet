{
 "cells": [
  {
   "cell_type": "markdown",
   "metadata": {},
   "source": [
    "### Print strings with variables in it"
   ]
  },
  {
   "cell_type": "markdown",
   "metadata": {},
   "source": [
    "* Example 1: variable type 'string'"
   ]
  },
  {
   "cell_type": "code",
   "execution_count": 25,
   "metadata": {
    "collapsed": false
   },
   "outputs": [
    {
     "name": "stdout",
     "output_type": "stream",
     "text": [
      "Let's not go to Camelot. 'Tis a silly place.\n"
     ]
    }
   ],
   "source": [
    "string_1 = \"Camelot\"\n",
    "string_2 = \"place\"\n",
    "\n",
    "print(\"Let's not go to %s. 'Tis a silly %s.\" % (string_1, string_2))"
   ]
  },
  {
   "cell_type": "code",
   "execution_count": 28,
   "metadata": {
    "collapsed": false
   },
   "outputs": [
    {
     "name": "stdout",
     "output_type": "stream",
     "text": [
      "Shomak is younger than Aura. Shomak is 1.11 meters tall. Aura is 1.65 meters tall.\n"
     ]
    }
   ],
   "source": [
    "name1 = 'Shomak'\n",
    "name2 = 'Aura'\n",
    "\n",
    "height1 = 1.11\n",
    "height2 = 1.65346\n",
    "\n",
    "print(\"%s is younger than %s. %s is %1.2f meters tall. %s is %1.2f meters tall.\" %(name1, name2, name1, height1, name2, height2))"
   ]
  },
  {
   "cell_type": "markdown",
   "metadata": {},
   "source": [
    "### Print strings with variables in it using .format"
   ]
  },
  {
   "cell_type": "markdown",
   "metadata": {
    "collapsed": true
   },
   "source": [
    "#### string displaying time: HH:MM:SS "
   ]
  },
  {
   "cell_type": "code",
   "execution_count": 29,
   "metadata": {
    "collapsed": false
   },
   "outputs": [
    {
     "name": "stdout",
     "output_type": "stream",
     "text": [
      "10:39:59\n"
     ]
    }
   ],
   "source": [
    "hour = 10\n",
    "minute = 39\n",
    "second = 59\n",
    "\n",
    "time_string = '{}:{}:{}'.format(hour, minute, second)\n",
    "print(time_string)\n"
   ]
  },
  {
   "cell_type": "code",
   "execution_count": 30,
   "metadata": {
    "collapsed": false
   },
   "outputs": [
    {
     "name": "stdout",
     "output_type": "stream",
     "text": [
      "01:29:05\n"
     ]
    }
   ],
   "source": [
    "hour = 1\n",
    "minute = 29\n",
    "second = 5\n",
    "\n",
    "time_list = [hour, minute, second]\n",
    "for i in range(0, len(time_list)): \n",
    "  elem = time_list[i]\n",
    "  if len(str(elem)) < 2:\n",
    "    time_list[i] = \"0\"+str(elem)\n",
    "\n",
    "[hour, minute, second] = time_list\n",
    "\n",
    "time_string = '{}:{}:{}'.format(hour, minute, second)\n",
    "print(time_string)"
   ]
  },
  {
   "cell_type": "markdown",
   "metadata": {},
   "source": [
    "### Alignment"
   ]
  },
  {
   "cell_type": "markdown",
   "metadata": {},
   "source": [
    "#### Left alignment (default)"
   ]
  },
  {
   "cell_type": "code",
   "execution_count": 31,
   "metadata": {
    "collapsed": false
   },
   "outputs": [
    {
     "name": "stdout",
     "output_type": "stream",
     "text": [
      "The string 'puppet' has 6 characters.\n",
      "The string 'puppet' has 6 characters.\n"
     ]
    }
   ],
   "source": [
    "string = \"puppet\"\n",
    "print(\"The string 'puppet' has\", len(string), \"characters.\")\n",
    "print('The string \\'puppet\\' has', len(string), 'characters.')"
   ]
  },
  {
   "cell_type": "code",
   "execution_count": 32,
   "metadata": {
    "collapsed": false
   },
   "outputs": [
    {
     "name": "stdout",
     "output_type": "stream",
     "text": [
      "puppet 6\n",
      "puppet             18\n",
      "puppet             puppet            \n"
     ]
    }
   ],
   "source": [
    "# left alignment can be specified to fix the number of characters in a string\n",
    "string = \"puppet\"\n",
    "print(string, len(string))\n",
    "\n",
    "string = format(string, '<18s')\n",
    "print(string, len(string))\n",
    "print(string, string)\n"
   ]
  },
  {
   "cell_type": "markdown",
   "metadata": {},
   "source": [
    "#### Right alignment"
   ]
  },
  {
   "cell_type": "code",
   "execution_count": 33,
   "metadata": {
    "collapsed": false
   },
   "outputs": [
    {
     "name": "stdout",
     "output_type": "stream",
     "text": [
      "            puppet\n"
     ]
    }
   ],
   "source": [
    "# right alignment\n",
    "string = \"puppet\"\n",
    "print(format(string, '>18s'))"
   ]
  },
  {
   "cell_type": "markdown",
   "metadata": {},
   "source": [
    "#### center alignment"
   ]
  },
  {
   "cell_type": "code",
   "execution_count": 34,
   "metadata": {
    "collapsed": false
   },
   "outputs": [
    {
     "name": "stdout",
     "output_type": "stream",
     "text": [
      "      puppet      \n"
     ]
    }
   ],
   "source": [
    "# center alignment\n",
    "string = \"puppet\"\n",
    "print(format(string, '^18s'))"
   ]
  },
  {
   "cell_type": "code",
   "execution_count": 35,
   "metadata": {
    "collapsed": false
   },
   "outputs": [
    {
     "name": "stdout",
     "output_type": "stream",
     "text": [
      "1.23\n"
     ]
    }
   ],
   "source": [
    "# formating decimals\n",
    "x = 1.23456\n",
    "y = format(x, '2.2f')\n",
    "print(y)"
   ]
  },
  {
   "cell_type": "code",
   "execution_count": 36,
   "metadata": {
    "collapsed": false
   },
   "outputs": [
    {
     "name": "stdout",
     "output_type": "stream",
     "text": [
      "1.2345600000\n"
     ]
    }
   ],
   "source": [
    "# formating decimals\n",
    "x = 1.23456\n",
    "y = format(x, '10.10f')\n",
    "print(y)"
   ]
  },
  {
   "cell_type": "code",
   "execution_count": 37,
   "metadata": {
    "collapsed": false
   },
   "outputs": [
    {
     "name": "stdout",
     "output_type": "stream",
     "text": [
      "       1.2\n"
     ]
    }
   ],
   "source": [
    "# formating decimals\n",
    "x = 1.23456\n",
    "y = format(x, '>10.1f')\n",
    "print(y)"
   ]
  },
  {
   "cell_type": "code",
   "execution_count": 38,
   "metadata": {
    "collapsed": false
   },
   "outputs": [
    {
     "name": "stdout",
     "output_type": "stream",
     "text": [
      "   1.2    \n"
     ]
    }
   ],
   "source": [
    "# formating decimals\n",
    "x = 1.23456\n",
    "y = format(x, '^10.1f')\n",
    "print(y)"
   ]
  },
  {
   "cell_type": "code",
   "execution_count": 39,
   "metadata": {
    "collapsed": false
   },
   "outputs": [
    {
     "name": "stdout",
     "output_type": "stream",
     "text": [
      "111\n",
      "112\n",
      "113\n",
      "114\n",
      "115\n",
      "116\n",
      "117\n",
      "118\n",
      "119\n",
      "120\n"
     ]
    }
   ],
   "source": [
    "# print items in sepatate lines\n",
    "for i in range(111, 121):\n",
    "  print(i)"
   ]
  },
  {
   "cell_type": "code",
   "execution_count": 40,
   "metadata": {
    "collapsed": false
   },
   "outputs": [
    {
     "name": "stdout",
     "output_type": "stream",
     "text": [
      "111112113114115116117118119120"
     ]
    }
   ],
   "source": [
    "# print items in the same line\n",
    "for i in range(111, 121):\n",
    "  print(i,end=\"\") # no space"
   ]
  },
  {
   "cell_type": "code",
   "execution_count": 41,
   "metadata": {
    "collapsed": false
   },
   "outputs": [
    {
     "name": "stdout",
     "output_type": "stream",
     "text": [
      "111 112 113 114 115 116 117 118 119 120 "
     ]
    }
   ],
   "source": [
    "# print items in the same line\n",
    "for i in range(111, 121):\n",
    "  print(i,end=\" \") # single space"
   ]
  },
  {
   "cell_type": "code",
   "execution_count": 42,
   "metadata": {
    "collapsed": false
   },
   "outputs": [
    {
     "name": "stdout",
     "output_type": "stream",
     "text": [
      "111  112  113  114  115  116  117  118  119  120  "
     ]
    }
   ],
   "source": [
    "# print items in the same line\n",
    "for i in range(111, 121):\n",
    "  print(i,end=\"  \") # double space"
   ]
  },
  {
   "cell_type": "code",
   "execution_count": 43,
   "metadata": {
    "collapsed": false
   },
   "outputs": [
    {
     "name": "stdout",
     "output_type": "stream",
     "text": [
      "111,112,113,114,115,116,117,118,119,120,"
     ]
    }
   ],
   "source": [
    "# print items in the same line\n",
    "for i in range(111, 121):\n",
    "  print(i,end=\",\") # separated by comma"
   ]
  },
  {
   "cell_type": "code",
   "execution_count": 44,
   "metadata": {
    "collapsed": false
   },
   "outputs": [
    {
     "name": "stdout",
     "output_type": "stream",
     "text": [
      "111puppet112puppet113puppet114puppet115puppet116puppet117puppet118puppet119puppet120puppet"
     ]
    }
   ],
   "source": [
    "# print items in the same line\n",
    "for i in range(111, 121):\n",
    "  print(i,end=\"puppet\") # separated by comma"
   ]
  },
  {
   "cell_type": "markdown",
   "metadata": {},
   "source": [
    "#### newline with \\n"
   ]
  },
  {
   "cell_type": "code",
   "execution_count": 45,
   "metadata": {
    "collapsed": false
   },
   "outputs": [
    {
     "name": "stdout",
     "output_type": "stream",
     "text": [
      "If I were a white rabbit,\n",
      "I would not like to be called a white rabbit.\n",
      "Instead I would like to be called\n",
      "whibbit\n"
     ]
    }
   ],
   "source": [
    "print(\"If I were a white rabbit,\\n\\\n",
    "I would not like to be called a white rabbit.\\n\\\n",
    "Instead I would like to be called\\n\\\n",
    "whibbit\")"
   ]
  },
  {
   "cell_type": "code",
   "execution_count": 46,
   "metadata": {
    "collapsed": false
   },
   "outputs": [
    {
     "name": "stdout",
     "output_type": "stream",
     "text": [
      "If I were a white rabbit,\n",
      " I would not like to be called a white rabbit.\n",
      " Instead I would like to be called\n",
      " whibbit\n"
     ]
    }
   ],
   "source": [
    "print(\"If I were a white rabbit,\\n \\\n",
    "I would not like to be called a white rabbit.\\n \\\n",
    "Instead I would like to be called\\n \\\n",
    "whibbit\")"
   ]
  },
  {
   "cell_type": "code",
   "execution_count": 47,
   "metadata": {
    "collapsed": false
   },
   "outputs": [
    {
     "name": "stdout",
     "output_type": "stream",
     "text": [
      "There are 5 apples and 4 oranges.\n"
     ]
    }
   ],
   "source": [
    "x, y = 5, 4\n",
    "\n",
    "print(\"There are\",x,\"apples and\",y,\"oranges.\")"
   ]
  },
  {
   "cell_type": "markdown",
   "metadata": {},
   "source": [
    "### How to print string and variables in the same line without spaces in between. Expected: There are5apples."
   ]
  },
  {
   "cell_type": "code",
   "execution_count": null,
   "metadata": {
    "collapsed": true
   },
   "outputs": [],
   "source": []
  },
  {
   "cell_type": "code",
   "execution_count": null,
   "metadata": {
    "collapsed": true
   },
   "outputs": [],
   "source": []
  }
 ],
 "metadata": {
  "anaconda-cloud": {},
  "kernelspec": {
   "display_name": "Python [Root]",
   "language": "python",
   "name": "Python [Root]"
  },
  "language_info": {
   "codemirror_mode": {
    "name": "ipython",
    "version": 3
   },
   "file_extension": ".py",
   "mimetype": "text/x-python",
   "name": "python",
   "nbconvert_exporter": "python",
   "pygments_lexer": "ipython3",
   "version": "3.5.2"
  }
 },
 "nbformat": 4,
 "nbformat_minor": 0
}
